{
 "cells": [
  {
   "cell_type": "code",
   "execution_count": 2,
   "metadata": {
    "collapsed": true,
    "pycharm": {
     "is_executing": true
    }
   },
   "outputs": [],
   "source": [
    "import numpy as np\n",
    "import torch\n",
    "import torch.nn as nn\n",
    "import torch.optim as optim\n",
    "from sklearn.model_selection import train_test_split\n",
    "from torch.utils.data import DataLoader, TensorDataset\n",
    "from sklearn.preprocessing import MinMaxScaler\n",
    "import wandb"
   ]
  },
  {
   "cell_type": "code",
   "execution_count": 3,
   "metadata": {
    "collapsed": false
   },
   "outputs": [],
   "source": [
    "# 载入数据集\n",
    "data = np.load(\"/Users/dongtianchi/Documents/GIT/SpectralReconstruction/ComputationalSpectrometers/Deeplearning/DATA/SpectrumData.npy\", allow_pickle=True)\n",
    "device = torch.device(\"cuda\" if torch.cuda.is_available() else \"cpu\")\n",
    "\n",
    "scaler = MinMaxScaler()\n",
    "data_normalized = scaler.fit_transform(data.T).T"
   ]
  },
  {
   "cell_type": "code",
   "execution_count": 4,
   "metadata": {},
   "outputs": [],
   "source": [
    "#SSDAE\n",
    "class SSDAE(nn.Module):\n",
    "    def __init__(self, input_size, hidden_size):\n",
    "        super(SSDAE, self).__init__()\n",
    "        self.encoder = nn.Sequential(\n",
    "            nn.Linear(input_size, hidden_size),\n",
    "            nn.ReLU(),\n",
    "            nn.Linear(hidden_size, hidden_size),\n",
    "            nn.ReLU()\n",
    "        )\n",
    "        self.decoder = nn.Sequential(\n",
    "            nn.Linear(hidden_size, hidden_size),\n",
    "            nn.ReLU(),\n",
    "            nn.Linear(hidden_size, input_size),\n",
    "            nn.Sigmoid()\n",
    "        )\n",
    "\n",
    "    def forward(self, x):\n",
    "        x = self.encoder(x)\n",
    "        x = self.decoder(x)\n",
    "        return x\n",
    "\n",
    "input_size = 400\n",
    "hidden_size = 128\n",
    "ssdae = SSDAE(input_size, hidden_size)\n"
   ]
  },
  {
   "cell_type": "code",
   "execution_count": 5,
   "metadata": {
    "collapsed": false
   },
   "outputs": [],
   "source": [
    "#dataloader 构建 + 张量转换\n",
    "batch_size = 16\n",
    "data_normalized = np.asarray(data_normalized, dtype=np.float32)\n",
    "\n",
    "train_data, val_data = train_test_split(data_normalized.T, test_size=0.2, random_state=42)\n",
    "train_loader = DataLoader(TensorDataset(torch.tensor(train_data)), batch_size=batch_size, shuffle=True)\n",
    "val_loader = DataLoader(TensorDataset(torch.tensor(val_data)), batch_size=batch_size, shuffle=True)\n"
   ]
  },
  {
   "cell_type": "code",
   "execution_count": 6,
   "metadata": {},
   "outputs": [],
   "source": [
    "loss_function = nn.MSELoss()\n",
    "optimizer = torch.optim.Adam(ssdae.parameters(), lr=0.001)\n"
   ]
  },
  {
   "cell_type": "code",
   "execution_count": 7,
   "metadata": {},
   "outputs": [
    {
     "name": "stdout",
     "output_type": "stream",
     "text": [
      "Epoch [1/100], Train Loss: 0.0006, Val Loss: 0.0009\n",
      "Epoch [2/100], Train Loss: 0.0006, Val Loss: 0.0009\n",
      "Epoch [3/100], Train Loss: 0.0007, Val Loss: 0.0009\n",
      "Epoch [4/100], Train Loss: 0.0004, Val Loss: 0.0009\n",
      "Epoch [5/100], Train Loss: 0.0007, Val Loss: 0.0009\n",
      "Epoch [6/100], Train Loss: 0.0007, Val Loss: 0.0009\n",
      "Epoch [7/100], Train Loss: 0.0008, Val Loss: 0.0009\n",
      "Epoch [8/100], Train Loss: 0.0008, Val Loss: 0.0009\n",
      "Epoch [9/100], Train Loss: 0.0006, Val Loss: 0.0009\n",
      "Epoch [10/100], Train Loss: 0.0007, Val Loss: 0.0009\n",
      "Epoch [11/100], Train Loss: 0.0005, Val Loss: 0.0009\n",
      "Epoch [12/100], Train Loss: 0.0008, Val Loss: 0.0009\n",
      "Epoch [13/100], Train Loss: 0.0006, Val Loss: 0.0009\n",
      "Epoch [14/100], Train Loss: 0.0006, Val Loss: 0.0009\n",
      "Epoch [15/100], Train Loss: 0.0006, Val Loss: 0.0009\n",
      "Epoch [16/100], Train Loss: 0.0008, Val Loss: 0.0009\n",
      "Epoch [17/100], Train Loss: 0.0010, Val Loss: 0.0009\n",
      "Epoch [18/100], Train Loss: 0.0010, Val Loss: 0.0009\n",
      "Epoch [19/100], Train Loss: 0.0007, Val Loss: 0.0009\n",
      "Epoch [20/100], Train Loss: 0.0007, Val Loss: 0.0009\n",
      "Epoch [21/100], Train Loss: 0.0009, Val Loss: 0.0009\n",
      "Epoch [22/100], Train Loss: 0.0007, Val Loss: 0.0009\n",
      "Epoch [23/100], Train Loss: 0.0010, Val Loss: 0.0009\n",
      "Epoch [24/100], Train Loss: 0.0008, Val Loss: 0.0009\n",
      "Epoch [25/100], Train Loss: 0.0008, Val Loss: 0.0009\n",
      "Epoch [26/100], Train Loss: 0.0006, Val Loss: 0.0007\n",
      "Epoch [27/100], Train Loss: 0.0005, Val Loss: 0.0006\n",
      "Epoch [28/100], Train Loss: 0.0004, Val Loss: 0.0006\n",
      "Epoch [29/100], Train Loss: 0.0005, Val Loss: 0.0006\n",
      "Epoch [30/100], Train Loss: 0.0003, Val Loss: 0.0006\n",
      "Epoch [31/100], Train Loss: 0.0005, Val Loss: 0.0005\n",
      "Epoch [32/100], Train Loss: 0.0003, Val Loss: 0.0005\n",
      "Epoch [33/100], Train Loss: 0.0002, Val Loss: 0.0004\n",
      "Epoch [34/100], Train Loss: 0.0003, Val Loss: 0.0003\n",
      "Epoch [35/100], Train Loss: 0.0021, Val Loss: 0.0003\n",
      "Epoch [36/100], Train Loss: 0.0002, Val Loss: 0.0003\n",
      "Epoch [37/100], Train Loss: 0.0002, Val Loss: 0.0003\n",
      "Epoch [38/100], Train Loss: 0.0003, Val Loss: 0.0003\n",
      "Epoch [39/100], Train Loss: 0.0003, Val Loss: 0.0003\n",
      "Epoch [40/100], Train Loss: 0.0002, Val Loss: 0.0003\n",
      "Epoch [41/100], Train Loss: 0.0002, Val Loss: 0.0003\n",
      "Epoch [42/100], Train Loss: 0.0002, Val Loss: 0.0003\n",
      "Epoch [43/100], Train Loss: 0.0002, Val Loss: 0.0003\n",
      "Epoch [44/100], Train Loss: 0.0002, Val Loss: 0.0003\n",
      "Epoch [45/100], Train Loss: 0.0003, Val Loss: 0.0004\n",
      "Epoch [46/100], Train Loss: 0.0002, Val Loss: 0.0003\n",
      "Epoch [47/100], Train Loss: 0.0003, Val Loss: 0.0003\n",
      "Epoch [48/100], Train Loss: 0.0003, Val Loss: 0.0003\n",
      "Epoch [49/100], Train Loss: 0.0006, Val Loss: 0.0003\n",
      "Epoch [50/100], Train Loss: 0.0002, Val Loss: 0.0003\n",
      "Epoch [51/100], Train Loss: 0.0002, Val Loss: 0.0003\n",
      "Epoch [52/100], Train Loss: 0.0002, Val Loss: 0.0003\n",
      "Epoch [53/100], Train Loss: 0.0002, Val Loss: 0.0003\n",
      "Epoch [54/100], Train Loss: 0.0003, Val Loss: 0.0003\n",
      "Epoch [55/100], Train Loss: 0.0002, Val Loss: 0.0003\n",
      "Epoch [56/100], Train Loss: 0.0002, Val Loss: 0.0003\n",
      "Epoch [57/100], Train Loss: 0.0004, Val Loss: 0.0004\n",
      "Epoch [58/100], Train Loss: 0.0003, Val Loss: 0.0003\n",
      "Epoch [59/100], Train Loss: 0.0003, Val Loss: 0.0003\n",
      "Epoch [60/100], Train Loss: 0.0003, Val Loss: 0.0003\n",
      "Epoch [61/100], Train Loss: 0.0004, Val Loss: 0.0003\n",
      "Epoch [62/100], Train Loss: 0.0003, Val Loss: 0.0003\n",
      "Epoch [63/100], Train Loss: 0.0002, Val Loss: 0.0003\n",
      "Epoch [64/100], Train Loss: 0.0002, Val Loss: 0.0003\n",
      "Epoch [65/100], Train Loss: 0.0002, Val Loss: 0.0003\n",
      "Epoch [66/100], Train Loss: 0.0002, Val Loss: 0.0003\n",
      "Epoch [67/100], Train Loss: 0.0002, Val Loss: 0.0003\n",
      "Epoch [68/100], Train Loss: 0.0002, Val Loss: 0.0003\n",
      "Epoch [69/100], Train Loss: 0.0002, Val Loss: 0.0003\n",
      "Epoch [70/100], Train Loss: 0.0003, Val Loss: 0.0003\n",
      "Epoch [71/100], Train Loss: 0.0002, Val Loss: 0.0003\n",
      "Epoch [72/100], Train Loss: 0.0002, Val Loss: 0.0003\n",
      "Epoch [73/100], Train Loss: 0.0016, Val Loss: 0.0003\n",
      "Epoch [74/100], Train Loss: 0.0002, Val Loss: 0.0003\n",
      "Epoch [75/100], Train Loss: 0.0002, Val Loss: 0.0003\n",
      "Epoch [76/100], Train Loss: 0.0002, Val Loss: 0.0003\n",
      "Epoch [77/100], Train Loss: 0.0001, Val Loss: 0.0003\n",
      "Epoch [78/100], Train Loss: 0.0002, Val Loss: 0.0003\n",
      "Epoch [79/100], Train Loss: 0.0003, Val Loss: 0.0003\n",
      "Epoch [80/100], Train Loss: 0.0002, Val Loss: 0.0003\n",
      "Epoch [81/100], Train Loss: 0.0003, Val Loss: 0.0003\n",
      "Epoch [82/100], Train Loss: 0.0001, Val Loss: 0.0002\n",
      "Epoch [83/100], Train Loss: 0.0002, Val Loss: 0.0003\n",
      "Epoch [84/100], Train Loss: 0.0002, Val Loss: 0.0003\n",
      "Epoch [85/100], Train Loss: 0.0004, Val Loss: 0.0003\n",
      "Epoch [86/100], Train Loss: 0.0002, Val Loss: 0.0003\n",
      "Epoch [87/100], Train Loss: 0.0002, Val Loss: 0.0003\n",
      "Epoch [88/100], Train Loss: 0.0003, Val Loss: 0.0003\n",
      "Epoch [89/100], Train Loss: 0.0002, Val Loss: 0.0003\n",
      "Epoch [90/100], Train Loss: 0.0001, Val Loss: 0.0003\n",
      "Epoch [91/100], Train Loss: 0.0002, Val Loss: 0.0003\n",
      "Epoch [92/100], Train Loss: 0.0002, Val Loss: 0.0003\n",
      "Epoch [93/100], Train Loss: 0.0004, Val Loss: 0.0003\n",
      "Epoch [94/100], Train Loss: 0.0004, Val Loss: 0.0003\n",
      "Epoch [95/100], Train Loss: 0.0003, Val Loss: 0.0003\n",
      "Epoch [96/100], Train Loss: 0.0002, Val Loss: 0.0003\n",
      "Epoch [97/100], Train Loss: 0.0002, Val Loss: 0.0003\n",
      "Epoch [98/100], Train Loss: 0.0003, Val Loss: 0.0003\n",
      "Epoch [99/100], Train Loss: 0.0003, Val Loss: 0.0003\n",
      "Epoch [100/100], Train Loss: 0.0003, Val Loss: 0.0003\n"
     ]
    }
   ],
   "source": [
    "num_epochs = 100\n",
    "for epoch in range(num_epochs):\n",
    "    ssdae.train()\n",
    "    for batch in train_loader:\n",
    "        x = batch[0]\n",
    "        noise_factor = 0.5\n",
    "        noisy_x = x + noise_factor * torch.randn_like(x)\n",
    "        noisy_x = torch.clamp(noisy_x, 0., 1.)\n",
    "\n",
    "        optimizer.zero_grad()\n",
    "        outputs = ssdae(noisy_x)\n",
    "        loss = loss_function(outputs, x)\n",
    "        loss.backward()\n",
    "        optimizer.step()\n",
    "\n",
    "    ssdae.eval()\n",
    "    val_loss = 0.0\n",
    "    with torch.no_grad():\n",
    "        for batch in val_loader:\n",
    "            x = batch[0]\n",
    "            noise_factor = 0.5\n",
    "            noisy_x = x + noise_factor * torch.randn_like(x)\n",
    "            noisy_x = torch.clamp(noisy_x, 0., 1.)\n",
    "\n",
    "            outputs = ssdae(noisy_x)\n",
    "            loss = loss_function(outputs, x)\n",
    "            val_loss += loss.item()\n",
    "\n",
    "    print(f\"Epoch [{epoch+1}/{num_epochs}], Train Loss: {loss.item():.4f}, Val Loss: {val_loss/len(val_loader):.4f}\")\n"
   ]
  },
  {
   "cell_type": "code",
   "execution_count": 8,
   "metadata": {},
   "outputs": [],
   "source": [
    "\n",
    "noisy_data_tensor = torch.tensor(data_normalized, dtype=torch.float32).reshape(-1, 400)\n",
    "\n"
   ]
  },
  {
   "cell_type": "code",
   "execution_count": 9,
   "metadata": {},
   "outputs": [],
   "source": [
    "ssdae.eval()\n",
    "with torch.no_grad():\n",
    "    denoised_data = ssdae(noisy_data_tensor)\n"
   ]
  },
  {
   "cell_type": "code",
   "execution_count": 10,
   "metadata": {},
   "outputs": [],
   "source": [
    "denoised_data_np = denoised_data.numpy().T\n"
   ]
  },
  {
   "cell_type": "code",
   "execution_count": 11,
   "metadata": {},
   "outputs": [
    {
     "data": {
      "text/plain": [
       "(400, 5661)"
      ]
     },
     "execution_count": 11,
     "metadata": {},
     "output_type": "execute_result"
    }
   ],
   "source": [
    "denoised_data_np.shape"
   ]
  },
  {
   "cell_type": "code",
   "execution_count": 12,
   "metadata": {},
   "outputs": [],
   "source": [
    "D_data = scaler.inverse_transform(data_normalized.T).T"
   ]
  },
  {
   "cell_type": "code",
   "execution_count": 13,
   "metadata": {},
   "outputs": [
    {
     "data": {
      "text/plain": [
       "(400, 5661)"
      ]
     },
     "execution_count": 13,
     "metadata": {},
     "output_type": "execute_result"
    }
   ],
   "source": [
    "D_data.shape"
   ]
  },
  {
   "cell_type": "code",
   "execution_count": null,
   "metadata": {},
   "outputs": [],
   "source": [
    "np.save(\"denoised_data.npy\",D_data)"
   ]
  },
  {
   "cell_type": "code",
   "execution_count": 14,
   "metadata": {},
   "outputs": [
    {
     "data": {
      "text/plain": [
       "[<matplotlib.lines.Line2D at 0x7fd021a3b3a0>]"
      ]
     },
     "execution_count": 14,
     "metadata": {},
     "output_type": "execute_result"
    },
    {
     "data": {
      "image/png": "[encoded data removed]",
      "text/plain": [
       "<Figure size 640x480 with 1 Axes>"
      ]
     },
     "metadata": {},
     "output_type": "display_data"
    }
   ],
   "source": [
    "import matplotlib.pyplot as plt\n",
    "\n",
    "wavelengths = np.arange(380, 780, 1)\n",
    "\n",
    "plt.plot(wavelengths, D_data[:,1000])"
   ]
  },
  {
   "cell_type": "code",
   "execution_count": 15,
   "metadata": {},
   "outputs": [
    {
     "data": {
      "text/plain": [
       "[<matplotlib.lines.Line2D at 0x7fd0712489d0>]"
      ]
     },
     "execution_count": 15,
     "metadata": {},
     "output_type": "execute_result"
    },
    {
     "data": {
      "image/png": "[encoded data removed]",
      "text/plain": [
       "<Figure size 640x480 with 1 Axes>"
      ]
     },
     "metadata": {},
     "output_type": "display_data"
    }
   ],
   "source": [
    "plt.plot(wavelengths, data[:,1000])"
   ]
  }
 ],
 "metadata": {
  "kernelspec": {
   "display_name": "Python 3",
   "language": "python",
   "name": "python3"
  },
  "language_info": {
   "codemirror_mode": {
    "name": "ipython",
    "version": 3
   },
   "file_extension": ".py",
   "mimetype": "text/x-python",
   "name": "python",
   "nbconvert_exporter": "python",
   "pygments_lexer": "ipython3",
   "version": "3.10.9"
  }
 },
 "nbformat": 4,
 "nbformat_minor": 0
}
