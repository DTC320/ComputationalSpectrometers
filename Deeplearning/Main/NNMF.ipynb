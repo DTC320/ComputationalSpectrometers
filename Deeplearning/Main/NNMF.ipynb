{
 "cells": [
  {
   "cell_type": "code",
   "execution_count": 6,
   "metadata": {},
   "outputs": [],
   "source": [
    "import numpy as np\n",
    "from sklearn.decomposition import NMF\n",
    "from sklearn.preprocessing import MinMaxScaler\n",
    "from numpy.linalg import inv\n",
    "import matplotlib.pyplot as plt\n",
    "import os"
   ]
  },
  {
   "cell_type": "code",
   "execution_count": 11,
   "metadata": {},
   "outputs": [
    {
     "data": {
      "text/plain": [
       "401"
      ]
     },
     "execution_count": 11,
     "metadata": {},
     "output_type": "execute_result"
    }
   ],
   "source": [
    "wavelengths = np.arange(380, 781)\n",
    "len(wavelengths)"
   ]
  },
  {
   "cell_type": "code",
   "execution_count": 12,
   "metadata": {},
   "outputs": [],
   "source": [
    "class SPDReNMF:\n",
    "    def __init__(self,spd_data):\n",
    "        self.data = np.clip(spd_data, 0, None)\n",
    "        self.wavelengths = np.arange(380, 780)\n",
    "        self.mu = np.array([415, 445, 480, 515, 555, 590, 630, 680])\n",
    "        self.sigma = np.array([11.0403, 12.7388, 15.2866, 16.5605, 16.5605, 16.9851, 21.2314, 22.0807])\n",
    "        \n",
    "\n",
    "    def gaussian_filter(self):\n",
    "        filters = np.zeros((len(self.mu), len(self.wavelengths)))\n",
    "        for i in range(len(self.mu)):\n",
    "            filters[i] = np.exp(-0.5 * ((self.wavelengths - self.mu[i]) / self.sigma[i])**2)\n",
    "        self.M = filters\n",
    "    \n",
    "    def compute_R(self):\n",
    "        self.R = np.dot(self.M, self.data)\n",
    "    \n",
    "    def compute_H(self):\n",
    "        nmf = NMF(n_components=8) \n",
    "        scores = nmf.fit_transform(self.data) \n",
    "        self.H = scores.T\n",
    "    \n",
    "    def compute_V(self):\n",
    "        self.MH_inv = np.linalg.inv(np.dot(self.M, self.H.T))\n",
    "        self.V = np.dot(self.MH_inv,self.R)\n",
    "\n",
    "    def Reconstructed_spectrum(self):\n",
    "        self.reconstructed_spectrum = np.dot(self.H.T, self.V)\n",
    "        \n",
    "    \n",
    "    def Evaluate(self, Light, save_path=None):\n",
    "        s = self.data[:, Light]\n",
    "        s_re = self.reconstructed_spectrum[:, Light]\n",
    "        MAE = np.mean(np.absolute(s - s_re))\n",
    "        RMSE = np.sqrt(np.mean(np.square(s - s_re)))\n",
    "        RRMSE = RMSE / np.mean(s_re)\n",
    "\n",
    "        # GFC\n",
    "        num = abs(np.sum(s * s_re))\n",
    "        denom_s = np.sqrt(np.sum(s ** 2) + 1e-9)\n",
    "        denom_s_re = np.sqrt(np.sum(s_re ** 2) + 1e-9)\n",
    "        GFC = num / (denom_s * denom_s_re)\n",
    "\n",
    "        print(\"MAE: \", MAE)\n",
    "        print(\"RMSE: \", RMSE)\n",
    "        print(\"RRMES: \", RRMSE)\n",
    "        print(\"GFC: \", GFC)\n",
    "\n",
    "        if save_path:\n",
    "            with open(save_path, 'a') as f:\n",
    "                f.write(f\"Light: {Light + 1}\\n\")\n",
    "                f.write(f\"MAE: {MAE}\\n\")\n",
    "                f.write(f\"RMSE: {RMSE}\\n\")\n",
    "                f.write(f\"RRMES: {RRMSE}\\n\")\n",
    "                f.write(f\"GFC: {GFC}\\n\\n\")\n",
    "            print(f\"Results saved to {save_path}\")\n",
    "        \n",
    "\n",
    "    def Plot(self, Light, save_path=None):\n",
    "        # 创建一个包含三个子图的图像\n",
    "        fig, axs = plt.subplots(3, 1)\n",
    "        s = self.data[:, Light]\n",
    "        r = self.reconstructed_spectrum[:, Light]\n",
    "\n",
    "        # 绘制真实光谱图\n",
    "        axs[0].plot(self.wavelengths, s, label='True Spectrum')\n",
    "        axs[0].set_xlabel('Wavelength (nm)')\n",
    "        axs[0].set_ylabel('Intensity')\n",
    "        axs[0].set_title('True Spectrum vs Reconstructed Spectrum')\n",
    "        axs[0].legend()\n",
    "\n",
    "        # 绘制重建光谱图\n",
    "        axs[1].plot(self.wavelengths, r, label='Reconstructed Spectrum')\n",
    "        axs[1].set_xlabel('Wavelength (nm)')\n",
    "        axs[1].set_ylabel('Intensity')\n",
    "        axs[1].legend()\n",
    "\n",
    "        # 绘制重建光谱和真实光谱叠加的图\n",
    "        axs[2].plot(self.wavelengths, s, label='True Spectrum')\n",
    "        axs[2].plot(self.wavelengths, r, label='Reconstructed Spectrum')\n",
    "        axs[2].set_xlabel('Wavelength (nm)')\n",
    "        axs[2].set_ylabel('Intensity')\n",
    "        axs[2].legend()\n",
    "\n",
    "        if save_path:\n",
    "            file_name = f\"Light_s{Light + 1}.png\"\n",
    "            plt.savefig(os.path.join(save_path, file_name))\n",
    "\n",
    "        plt.tight_layout()\n",
    "        plt.show()"
   ]
  },
  {
   "cell_type": "code",
   "execution_count": 27,
   "metadata": {},
   "outputs": [
    {
     "data": {
      "text/plain": [
       "(5661, 400)"
      ]
     },
     "execution_count": 27,
     "metadata": {},
     "output_type": "execute_result"
    }
   ],
   "source": [
    "spd = np.load(\"denoised_data.npy\", allow_pickle= True)\n",
    "spd.shape"
   ]
  },
  {
   "cell_type": "code",
   "execution_count": 8,
   "metadata": {},
   "outputs": [
    {
     "data": {
      "text/plain": [
       "(400, 5661)"
      ]
     },
     "execution_count": 8,
     "metadata": {},
     "output_type": "execute_result"
    }
   ],
   "source": [
    "scaler = MinMaxScaler()\n",
    "scalered_data = scaler.fit_transform(spd)\n",
    "scalered_data.shape"
   ]
  },
  {
   "cell_type": "code",
   "execution_count": 13,
   "metadata": {},
   "outputs": [],
   "source": [
    "r = SPDReNMF(spd)"
   ]
  },
  {
   "cell_type": "code",
   "execution_count": 14,
   "metadata": {},
   "outputs": [
    {
     "name": "stdout",
     "output_type": "stream",
     "text": [
      "M:  (8, 400)\n",
      "R:  (8, 5661)\n",
      "H:  (8, 400)\n",
      "V:  (8, 5661)\n",
      "s:  (400, 5661)\n"
     ]
    },
    {
     "name": "stderr",
     "output_type": "stream",
     "text": [
      "/opt/anaconda3/envs/ForEXE/lib/python3.10/site-packages/sklearn/decomposition/_nmf.py:1665: ConvergenceWarning: Maximum number of iterations 200 reached. Increase it to improve convergence.\n",
      "  warnings.warn(\n"
     ]
    }
   ],
   "source": [
    "r.gaussian_filter()\n",
    "r.compute_R()\n",
    "r.compute_H()\n",
    "r.compute_V()\n",
    "r.Reconstructed_spectrum()\n",
    "print(\"M: \", r.M.shape)\n",
    "print(\"R: \", r.R.shape)\n",
    "print(\"H: \", r.H.shape)\n",
    "print(\"V: \", r.V.shape)\n",
    "print(\"s: \", r.reconstructed_spectrum.shape)"
   ]
  },
  {
   "cell_type": "code",
   "execution_count": 18,
   "metadata": {},
   "outputs": [
    {
     "data": {
      "text/plain": [
       "(400, 5661)"
      ]
     },
     "execution_count": 18,
     "metadata": {},
     "output_type": "execute_result"
    }
   ],
   "source": [
    "test_result = r.reconstructed_spectrum\n",
    "\n",
    "t = scaler.inverse_transform(test_result)\n",
    "\n",
    "t.shape"
   ]
  },
  {
   "cell_type": "code",
   "execution_count": 22,
   "metadata": {},
   "outputs": [],
   "source": [
    "wavelengths = np.arange(380, 780, 1)\n",
    "\n",
    "def Plot(Light, save_path=None):\n",
    "    # 创建一个包含三个子图的图像\n",
    "    fig, axs = plt.subplots(3, 1)\n",
    "    s = spd[:, Light]\n",
    "    r = test_result[:, Light]\n",
    "\n",
    "    # 绘制真实光谱图\n",
    "    axs[0].plot(wavelengths, s, label='True Spectrum')\n",
    "    axs[0].set_xlabel('Wavelength (nm)')\n",
    "    axs[0].set_ylabel('Intensity')\n",
    "    axs[0].set_title('True Spectrum vs Reconstructed Spectrum')\n",
    "    axs[0].legend()\n",
    "\n",
    "        # 绘制重建光谱图\n",
    "    axs[1].plot(wavelengths, r, label='Reconstructed Spectrum')\n",
    "    axs[1].set_xlabel('Wavelength (nm)')\n",
    "    axs[1].set_ylabel('Intensity')\n",
    "    axs[1].legend()\n",
    "\n",
    "    # 绘制重建光谱和真实光谱叠加的图\n",
    "    axs[2].plot(wavelengths, s, label='True Spectrum')\n",
    "    axs[2].plot(wavelengths, r, label='Reconstructed Spectrum')\n",
    "    axs[2].set_xlabel('Wavelength (nm)')\n",
    "    axs[2].set_ylabel('Intensity')\n",
    "    axs[2].legend()\n",
    "\n",
    "    if save_path:\n",
    "        file_name = f\"Light_s{Light + 1}.png\"\n",
    "        plt.savefig(os.path.join(save_path, file_name))\n",
    "\n",
    "    plt.tight_layout()\n",
    "    plt.show()"
   ]
  }
 ],
 "metadata": {
  "kernelspec": {
   "display_name": "Python 3",
   "language": "python",
   "name": "python3"
  },
  "language_info": {
   "codemirror_mode": {
    "name": "ipython",
    "version": 3
   },
   "file_extension": ".py",
   "mimetype": "text/x-python",
   "name": "python",
   "nbconvert_exporter": "python",
   "pygments_lexer": "ipython3",
   "version": "3.10.9"
  },
  "orig_nbformat": 4
 },
 "nbformat": 4,
 "nbformat_minor": 2
}
