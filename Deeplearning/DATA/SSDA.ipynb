{
 "cells": [
  {
   "cell_type": "code",
   "execution_count": 1,
   "metadata": {},
   "outputs": [],
   "source": [
    "import numpy as np\n",
    "import torch\n",
    "import torch.nn as nn\n",
    "import torch.optim as optim\n",
    "from sklearn.model_selection import train_test_split\n",
    "from torch.utils.data import DataLoader, TensorDataset\n",
    "from sklearn.preprocessing import MinMaxScaler"
   ]
  },
  {
   "cell_type": "code",
   "execution_count": 9,
   "metadata": {},
   "outputs": [],
   "source": [
    "data = np.load(\"SpectrumData.npy\", allow_pickle=True)\n",
    "device = torch.device(\"cuda\" if torch.cuda.is_available() else \"cpu\")\n",
    "\n",
    "scaler = MinMaxScaler()\n",
    "data_normalized = scaler.fit_transform(data.T)"
   ]
  },
  {
   "cell_type": "code",
   "execution_count": 16,
   "metadata": {},
   "outputs": [],
   "source": [
    "class SSDAE(nn.Module):\n",
    "    def __init__(self, input_size, hidden_size):\n",
    "        super(SSDAE, self).__init__()\n",
    "        self.encoder = nn.Sequential(\n",
    "            nn.Linear(input_size, hidden_size),\n",
    "            nn.ReLU(),\n",
    "            nn.Linear(hidden_size, hidden_size),\n",
    "            nn.ReLU()\n",
    "        )\n",
    "        self.decoder = nn.Sequential(\n",
    "            nn.Linear(hidden_size, hidden_size),\n",
    "            nn.ReLU(),\n",
    "            nn.Linear(hidden_size, input_size),\n",
    "            nn.Sigmoid()\n",
    "        )\n",
    "\n",
    "    def forward(self, x):\n",
    "        x = self.encoder(x)\n",
    "        x = self.decoder(x)\n",
    "        return x\n",
    "\n",
    "input_size = 400\n",
    "hidden_size1 = 128\n",
    "hidden_size2 = 64\n",
    "ssdae1 = SSDAE(input_size, hidden_size1)\n",
    "ssdae2 = SSDAE(hidden_size1, hidden_size2)\n"
   ]
  },
  {
   "cell_type": "code",
   "execution_count": 11,
   "metadata": {},
   "outputs": [],
   "source": [
    "#dataloader 构建 + 张量转换\n",
    "batch_size = 16\n",
    "data_normalized = np.asarray(data_normalized, dtype=np.float32)\n",
    "train_loader = DataLoader(TensorDataset(torch.tensor(data_normalized)), batch_size=batch_size, shuffle=True)"
   ]
  },
  {
   "cell_type": "code",
   "execution_count": 12,
   "metadata": {},
   "outputs": [],
   "source": [
    "loss_function = nn.MSELoss()\n",
    "optimizer1 = torch.optim.Adam(ssdae1.parameters(), lr=0.001)\n",
    "optimizer2 = torch.optim.Adam(ssdae2.parameters(), lr=0.001)"
   ]
  },
  {
   "cell_type": "code",
   "execution_count": 17,
   "metadata": {},
   "outputs": [
    {
     "name": "stdout",
     "output_type": "stream",
     "text": [
      "Epoch [1/50], Loss1: 0.2349, Loss2: 0.2058\n",
      "Epoch [2/50], Loss1: 0.2259, Loss2: 0.2061\n",
      "Epoch [3/50], Loss1: 0.2118, Loss2: 0.2093\n",
      "Epoch [4/50], Loss1: 0.2302, Loss2: 0.2079\n",
      "Epoch [5/50], Loss1: 0.2346, Loss2: 0.2087\n",
      "Epoch [6/50], Loss1: 0.2271, Loss2: 0.2078\n",
      "Epoch [7/50], Loss1: 0.2357, Loss2: 0.2088\n",
      "Epoch [8/50], Loss1: 0.2384, Loss2: 0.2060\n",
      "Epoch [9/50], Loss1: 0.2406, Loss2: 0.2091\n",
      "Epoch [10/50], Loss1: 0.2123, Loss2: 0.2062\n",
      "Epoch [11/50], Loss1: 0.2300, Loss2: 0.2067\n",
      "Epoch [12/50], Loss1: 0.2340, Loss2: 0.2086\n",
      "Epoch [13/50], Loss1: 0.2319, Loss2: 0.2067\n",
      "Epoch [14/50], Loss1: 0.2275, Loss2: 0.2058\n",
      "Epoch [15/50], Loss1: 0.2307, Loss2: 0.2115\n",
      "Epoch [16/50], Loss1: 0.2267, Loss2: 0.2077\n",
      "Epoch [17/50], Loss1: 0.2310, Loss2: 0.2072\n",
      "Epoch [18/50], Loss1: 0.2298, Loss2: 0.2115\n",
      "Epoch [19/50], Loss1: 0.2318, Loss2: 0.2074\n",
      "Epoch [20/50], Loss1: 0.2282, Loss2: 0.2066\n",
      "Epoch [21/50], Loss1: 0.2297, Loss2: 0.2104\n",
      "Epoch [22/50], Loss1: 0.2248, Loss2: 0.2091\n",
      "Epoch [23/50], Loss1: 0.2278, Loss2: 0.2084\n",
      "Epoch [24/50], Loss1: 0.2276, Loss2: 0.2101\n",
      "Epoch [25/50], Loss1: 0.2283, Loss2: 0.2083\n",
      "Epoch [26/50], Loss1: 0.2279, Loss2: 0.2082\n",
      "Epoch [27/50], Loss1: 0.2331, Loss2: 0.2080\n",
      "Epoch [28/50], Loss1: 0.2251, Loss2: 0.2101\n",
      "Epoch [29/50], Loss1: 0.2239, Loss2: 0.2062\n",
      "Epoch [30/50], Loss1: 0.2363, Loss2: 0.2089\n",
      "Epoch [31/50], Loss1: 0.2332, Loss2: 0.2084\n",
      "Epoch [32/50], Loss1: 0.2304, Loss2: 0.2104\n",
      "Epoch [33/50], Loss1: 0.2258, Loss2: 0.2111\n",
      "Epoch [34/50], Loss1: 0.2221, Loss2: 0.2072\n",
      "Epoch [35/50], Loss1: 0.2228, Loss2: 0.2073\n",
      "Epoch [36/50], Loss1: 0.2316, Loss2: 0.2108\n",
      "Epoch [37/50], Loss1: 0.2257, Loss2: 0.2056\n",
      "Epoch [38/50], Loss1: 0.2254, Loss2: 0.2108\n",
      "Epoch [39/50], Loss1: 0.2369, Loss2: 0.2078\n",
      "Epoch [40/50], Loss1: 0.2256, Loss2: 0.2081\n",
      "Epoch [41/50], Loss1: 0.2370, Loss2: 0.2115\n",
      "Epoch [42/50], Loss1: 0.2317, Loss2: 0.2074\n",
      "Epoch [43/50], Loss1: 0.2259, Loss2: 0.2080\n",
      "Epoch [44/50], Loss1: 0.2377, Loss2: 0.2098\n",
      "Epoch [45/50], Loss1: 0.2385, Loss2: 0.2088\n",
      "Epoch [46/50], Loss1: 0.2255, Loss2: 0.2075\n",
      "Epoch [47/50], Loss1: 0.2322, Loss2: 0.2076\n",
      "Epoch [48/50], Loss1: 0.2285, Loss2: 0.2101\n",
      "Epoch [49/50], Loss1: 0.2308, Loss2: 0.2096\n",
      "Epoch [50/50], Loss1: 0.2302, Loss2: 0.2110\n"
     ]
    }
   ],
   "source": [
    "num_epochs = 50\n",
    "for epoch in range(num_epochs):\n",
    "    for data in train_loader:\n",
    "        x = data[0]\n",
    "        x = x.view(x.size(0), -1)\n",
    "        noise_factor = 0.5\n",
    "        \n",
    "        # 添加噪声\n",
    "        noisy_x = x + noise_factor * torch.randn(x.shape)\n",
    "\n",
    "        # 自编码器 1\n",
    "        output1 = ssdae1.encoder(noisy_x)\n",
    "        reconstructed1 = ssdae1.decoder(output1)\n",
    "        loss1 = loss_function(reconstructed1, x)\n",
    "\n",
    "        optimizer1.zero_grad()\n",
    "        loss1.backward()\n",
    "        optimizer1.step()\n",
    "\n",
    "        # 自编码器 2\n",
    "        output2 = ssdae2.encoder(output1.detach())  # 使用自编码器 1 的编码器输出作为自编码器 2 的输入\n",
    "        reconstructed2 = ssdae2.decoder(output2)\n",
    "        loss2 = loss_function(reconstructed2, output1.detach())\n",
    "\n",
    "        optimizer2.zero_grad()\n",
    "        loss2.backward()\n",
    "        optimizer2.step()\n",
    "\n",
    "    print(f'Epoch [{epoch+1}/{num_epochs}], Loss1: {loss1.item():.4f}, Loss2: {loss2.item():.4f}')\n"
   ]
  },
  {
   "cell_type": "code",
   "execution_count": null,
   "metadata": {},
   "outputs": [],
   "source": [
    "for epoch in range(num_epochs):\n",
    "    ssdae1.train()\n",
    "    for batch in train_loader:\n",
    "        x = batch[0]\n",
    "        noise_factor = 0.5\n",
    "        noisy_x = x + noise_factor * torch.randn_like(x)\n",
    "        noisy_x = torch.clamp(noisy_x, 0., 1.)\n",
    "\n",
    "        optimizer1.zero_grad()\n",
    "        outputs = ssdae1(noisy_x)\n",
    "        loss = loss_function(outputs, x)\n",
    "        loss.backward()\n",
    "        optimizer1.step()\n",
    "\n",
    "    ssdae1.eval()\n",
    "    print(f\"Epoch [{epoch+1}/{num_epochs}], Train Loss: {loss.item():.4f}\")"
   ]
  }
 ],
 "metadata": {
  "kernelspec": {
   "display_name": "Python 3",
   "language": "python",
   "name": "python3"
  },
  "language_info": {
   "codemirror_mode": {
    "name": "ipython",
    "version": 3
   },
   "file_extension": ".py",
   "mimetype": "text/x-python",
   "name": "python",
   "nbconvert_exporter": "python",
   "pygments_lexer": "ipython3",
   "version": "3.10.9"
  },
  "orig_nbformat": 4
 },
 "nbformat": 4,
 "nbformat_minor": 2
}
