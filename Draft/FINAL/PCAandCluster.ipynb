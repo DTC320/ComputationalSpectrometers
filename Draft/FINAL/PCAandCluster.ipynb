{
 "cells": [
  {
   "cell_type": "code",
   "execution_count": 1,
   "metadata": {},
   "outputs": [],
   "source": [
    "import numpy as np\n",
    "from sklearn.decomposition import PCA\n",
    "from sklearn.cluster import KMeans\n",
    "import matplotlib.pyplot as plt"
   ]
  },
  {
   "cell_type": "code",
   "execution_count": 34,
   "metadata": {},
   "outputs": [],
   "source": [
    "def Evaluate(self, Light):\n",
    "    s = self.data[:, Light]\n",
    "    s_re = self.reconstructed_spectrum[:, Light]\n",
    "    MAE = np.mean(np.absolute(s - s_re))\n",
    "    RMSE = np.sqrt(np.mean(np.square(s - s_re)))\n",
    "    RRMSE = RMSE / np.mean(s_re)\n",
    "\n",
    "    # GFC\n",
    "    num = abs(np.sum(s * s_re))\n",
    "    denom_s = np.sqrt(np.sum(s ** 2) + 1e-9)\n",
    "    denom_s_re = np.sqrt(np.sum(s_re ** 2) + 1e-9)\n",
    "    GFC = num / (denom_s * denom_s_re)\n",
    "\n",
    "    print(\"MAE: \", MAE)\n",
    "    print(\"RMSE: \", RMSE)\n",
    "    print(\"RRMES: \", RRMSE)\n",
    "    print(\"GFC: \", GFC)\n",
    "\n",
    "\n",
    "def Plot(self, Light):\n",
    "    # 创建一个包含三个子图的图像\n",
    "    fig, axs = plt.subplots(3, 1)\n",
    "    s = self.data[:, Light]\n",
    "    r = self.reconstructed_spectrum[:, Light]\n",
    "\n",
    "    # 绘制真实光谱图\n",
    "    axs[0].plot(self.wavelengths, s, label='True Spectrum')\n",
    "    axs[0].set_xlabel('Wavelength (nm)')\n",
    "    axs[0].set_ylabel('Intensity')\n",
    "    axs[0].set_title('True Spectrum vs Reconstructed Spectrum')\n",
    "    axs[0].legend()\n",
    "\n",
    "    # 绘制重建光谱图\n",
    "    axs[1].plot(self.wavelengths, r, label='Reconstructed Spectrum')\n",
    "    axs[1].set_xlabel('Wavelength (nm)')\n",
    "    axs[1].set_ylabel('Intensity')\n",
    "    axs[1].legend()\n",
    "\n",
    "    # 绘制重建光谱和真实光谱叠加的图\n",
    "    axs[2].plot(self.wavelengths, s, label='True Spectrum')\n",
    "    axs[2].plot(self.wavelengths, r, label='Reconstructed Spectrum')\n",
    "    axs[2].set_xlabel('Wavelength (nm)')\n",
    "    axs[2].set_ylabel('Intensity')\n",
    "    axs[2].legend()\n",
    "\n",
    "    plt.tight_layout()\n",
    "    plt.show()"
   ]
  },
  {
   "cell_type": "code",
   "execution_count": 43,
   "metadata": {},
   "outputs": [],
   "source": [
    "class SPDPCAandCluster:\n",
    "    def __init__(self, spd_data, n_components, n_clusters):\n",
    "        self.data = spd_data\n",
    "        self.n_components = n_components\n",
    "        self.n_clusters = n_clusters\n",
    "        self._pca = PCA(n_components=self.n_components)\n",
    "        self._kmeans = KMeans(n_clusters=self.n_clusters, random_state=0)\n",
    "\n",
    "    def cluster_data(self):\n",
    "        self.labels = self._kmeans.fit_predict(self.data.T)\n",
    "        self.clustered_data = [self.data[:, self.labels == i] for i in range(self.n_clusters)]\n",
    "\n",
    "    def fit(self):\n",
    "        self.cluster_data()\n",
    "        self.pca_models = {}\n",
    "\n",
    "        for i, cluster in enumerate(self.clustered_data):\n",
    "            pca = PCA(n_components=self.n_components)\n",
    "            pca.fit(cluster.T)\n",
    "            self.pca_models[i] = pca\n",
    "\n",
    "    def reconstruct(self):\n",
    "        reconstructed_data = np.zeros_like(self.data)\n",
    "\n",
    "        for i, cluster in enumerate(self.clustered_data):\n",
    "            pca_model = self.pca_models[i]\n",
    "            scores = pca_model.transform(cluster.T)\n",
    "            reconstructed_cluster = pca_model.inverse_transform(scores).T\n",
    "            reconstructed_data[:, self.labels == i] = reconstructed_cluster\n",
    "\n",
    "        return reconstructed_data\n",
    "\n",
    "\n",
    "\n",
    "\n"
   ]
  },
  {
   "cell_type": "code",
   "execution_count": 5,
   "metadata": {},
   "outputs": [],
   "source": [
    "spd = np.load(\"/Users/dongtianchi/Documents/GIT/SpectralReconstruction/ComputationalSpectrometers/NNLS/cleandata.npy\", allow_pickle= True)"
   ]
  },
  {
   "cell_type": "code",
   "execution_count": 44,
   "metadata": {},
   "outputs": [
    {
     "name": "stderr",
     "output_type": "stream",
     "text": [
      "/opt/anaconda3/envs/ForEXE/lib/python3.10/site-packages/sklearn/cluster/_kmeans.py:870: FutureWarning: The default value of `n_init` will change from 10 to 'auto' in 1.4. Set the value of `n_init` explicitly to suppress the warning\n",
      "  warnings.warn(\n",
      "/opt/anaconda3/envs/ForEXE/lib/python3.10/site-packages/sklearn/cluster/_kmeans.py:870: FutureWarning: The default value of `n_init` will change from 10 to 'auto' in 1.4. Set the value of `n_init` explicitly to suppress the warning\n",
      "  warnings.warn(\n"
     ]
    },
    {
     "ename": "UFuncTypeError",
     "evalue": "Cannot cast ufunc 'svd_m_s' input from dtype('O') to dtype('float64') with casting rule 'same_kind'",
     "output_type": "error",
     "traceback": [
      "\u001b[0;31m---------------------------------------------------------------------------\u001b[0m",
      "\u001b[0;31mUFuncTypeError\u001b[0m                            Traceback (most recent call last)",
      "Cell \u001b[0;32mIn[44], line 3\u001b[0m\n\u001b[1;32m      1\u001b[0m test \u001b[39m=\u001b[39m SPDPCAanfCluster(spd,\u001b[39m8\u001b[39m,\u001b[39m2\u001b[39m)\n\u001b[1;32m      2\u001b[0m test\u001b[39m.\u001b[39mcluster_data()\n\u001b[0;32m----> 3\u001b[0m test\u001b[39m.\u001b[39;49mfit()\n",
      "Cell \u001b[0;32mIn[43], line 34\u001b[0m, in \u001b[0;36mSPDPCAanfCluster.fit\u001b[0;34m(self)\u001b[0m\n\u001b[1;32m     32\u001b[0m mean_response \u001b[39m=\u001b[39m np\u001b[39m.\u001b[39mmean(response_matrix, axis\u001b[39m=\u001b[39m\u001b[39m1\u001b[39m)\n\u001b[1;32m     33\u001b[0m mean_response \u001b[39m=\u001b[39m mean_response\u001b[39m.\u001b[39mreshape(\u001b[39m-\u001b[39m\u001b[39m1\u001b[39m, \u001b[39m1\u001b[39m)\n\u001b[0;32m---> 34\u001b[0m M_inv \u001b[39m=\u001b[39m np\u001b[39m.\u001b[39;49mlinalg\u001b[39m.\u001b[39;49mpinv(M)\n\u001b[1;32m     35\u001b[0m response_diff \u001b[39m=\u001b[39m response_matrix \u001b[39m-\u001b[39m mean_response\n\u001b[1;32m     36\u001b[0m a_hat \u001b[39m=\u001b[39m np\u001b[39m.\u001b[39mdot(M_inv, response_diff)\n",
      "File \u001b[0;32m<__array_function__ internals>:180\u001b[0m, in \u001b[0;36mpinv\u001b[0;34m(*args, **kwargs)\u001b[0m\n",
      "File \u001b[0;32m/opt/anaconda3/envs/ForEXE/lib/python3.10/site-packages/numpy/linalg/linalg.py:1998\u001b[0m, in \u001b[0;36mpinv\u001b[0;34m(a, rcond, hermitian)\u001b[0m\n\u001b[1;32m   1996\u001b[0m     \u001b[39mreturn\u001b[39;00m wrap(res)\n\u001b[1;32m   1997\u001b[0m a \u001b[39m=\u001b[39m a\u001b[39m.\u001b[39mconjugate()\n\u001b[0;32m-> 1998\u001b[0m u, s, vt \u001b[39m=\u001b[39m svd(a, full_matrices\u001b[39m=\u001b[39;49m\u001b[39mFalse\u001b[39;49;00m, hermitian\u001b[39m=\u001b[39;49mhermitian)\n\u001b[1;32m   2000\u001b[0m \u001b[39m# discard small singular values\u001b[39;00m\n\u001b[1;32m   2001\u001b[0m cutoff \u001b[39m=\u001b[39m rcond[\u001b[39m.\u001b[39m\u001b[39m.\u001b[39m\u001b[39m.\u001b[39m, newaxis] \u001b[39m*\u001b[39m amax(s, axis\u001b[39m=\u001b[39m\u001b[39m-\u001b[39m\u001b[39m1\u001b[39m, keepdims\u001b[39m=\u001b[39m\u001b[39mTrue\u001b[39;00m)\n",
      "File \u001b[0;32m<__array_function__ internals>:180\u001b[0m, in \u001b[0;36msvd\u001b[0;34m(*args, **kwargs)\u001b[0m\n",
      "File \u001b[0;32m/opt/anaconda3/envs/ForEXE/lib/python3.10/site-packages/numpy/linalg/linalg.py:1657\u001b[0m, in \u001b[0;36msvd\u001b[0;34m(a, full_matrices, compute_uv, hermitian)\u001b[0m\n\u001b[1;32m   1654\u001b[0m         gufunc \u001b[39m=\u001b[39m _umath_linalg\u001b[39m.\u001b[39msvd_n_s\n\u001b[1;32m   1656\u001b[0m signature \u001b[39m=\u001b[39m \u001b[39m'\u001b[39m\u001b[39mD->DdD\u001b[39m\u001b[39m'\u001b[39m \u001b[39mif\u001b[39;00m isComplexType(t) \u001b[39melse\u001b[39;00m \u001b[39m'\u001b[39m\u001b[39md->ddd\u001b[39m\u001b[39m'\u001b[39m\n\u001b[0;32m-> 1657\u001b[0m u, s, vh \u001b[39m=\u001b[39m gufunc(a, signature\u001b[39m=\u001b[39;49msignature, extobj\u001b[39m=\u001b[39;49mextobj)\n\u001b[1;32m   1658\u001b[0m u \u001b[39m=\u001b[39m u\u001b[39m.\u001b[39mastype(result_t, copy\u001b[39m=\u001b[39m\u001b[39mFalse\u001b[39;00m)\n\u001b[1;32m   1659\u001b[0m s \u001b[39m=\u001b[39m s\u001b[39m.\u001b[39mastype(_realType(result_t), copy\u001b[39m=\u001b[39m\u001b[39mFalse\u001b[39;00m)\n",
      "\u001b[0;31mUFuncTypeError\u001b[0m: Cannot cast ufunc 'svd_m_s' input from dtype('O') to dtype('float64') with casting rule 'same_kind'"
     ]
    }
   ],
   "source": [
    "test = SPDPCAanfCluster(spd,8,2)\n",
    "test.cluster_data()\n",
    "test.fit()"
   ]
  },
  {
   "cell_type": "code",
   "execution_count": 15,
   "metadata": {},
   "outputs": [],
   "source": [
    "S1 = spd[:,0]\n",
    "S3 = spd[:,2]\n",
    "s500 = spd[:,499]\n",
    "S700 = spd[:,699]\n",
    "S1000 = spd[:,999]\n",
    "S1494 = spd[:,-1]\n"
   ]
  },
  {
   "cell_type": "code",
   "execution_count": 52,
   "metadata": {},
   "outputs": [],
   "source": [
    "class SPDReClusterPCA:\n",
    "    def __init__(self, spd_data, n_components, n_clusters):\n",
    "        self.data = spd_data\n",
    "        self.n_components = n_components\n",
    "        self.n_clusters = n_clusters\n",
    "        self._pca = PCA(n_components=self.n_components)\n",
    "        self._kmeans = KMeans(n_clusters=self.n_clusters, random_state=0)\n",
    "        self.wavelengths = np.arange(360, 831)\n",
    "        self.mu = np.array([415, 445, 480, 515, 555, 590, 630, 680])\n",
    "        self.sigma = np.array([11.0403, 12.7388, 15.2866, 16.5605, 16.5605, 16.9851, 21.2314, 22.0807])\n",
    "\n",
    "    def Reconstructed_spectrum(self):\n",
    "        labels = self._kmeans.fit_predict(self.data.T)\n",
    "        self.clustered_data = [self.data[:, labels == i] for i in range(self.n_clusters)]\n",
    "        reconstructed_data = np.zeros_like(self.data)\n",
    "\n",
    "        for i, cluster in enumerate(self.clustered_data):\n",
    "            scores = self._pca.fit_transform(cluster.T)\n",
    "            filters = np.zeros((len(self.mu), len(self.wavelengths)))\n",
    "            for j in range(8):\n",
    "                filters[j] = np.exp(-0.5 * ((self.wavelengths - self.mu[j]) / self.sigma[j])**2)\n",
    "            M = np.dot(filters, scores.T)\n",
    "            response_matrix = np.dot(filters, cluster)\n",
    "            mean_response = np.mean(response_matrix, axis=1)\n",
    "            mean_response = mean_response.reshape(-1, 1)\n",
    "            M_inv = np.linalg.pinv(M)\n",
    "            response_diff = response_matrix - mean_response\n",
    "            a_hat = np.dot(M_inv, response_diff)\n",
    "            mean_spd = np.mean(cluster, axis=1)\n",
    "            reconstructed_spectrum = np.dot(scores, a_hat) + mean_spd[:, np.newaxis]\n",
    "            self.reconstructed_data[:, labels == i] = reconstructed_spectrum\n",
    "\n",
    "        \n",
    "\n",
    "        \n",
    "    \n",
    "    def Plot(self, Light):\n",
    "        # 创建一个包含三个子图的图像\n",
    "        fig, axs = plt.subplots(3, 1)\n",
    "        s = self.data[:,Light]\n",
    "        r = self.reconstructed_data[:,Light]\n",
    "\n",
    "        # 绘制真实光谱图\n",
    "        axs[0].plot(self.wavelengths, s, label='True Spectrum')\n",
    "        axs[0].set_xlabel('Wavelength (nm)')\n",
    "        axs[0].set_ylabel('Intensity')\n",
    "        axs[0].set_title('True Spectrum vs Reconstructed Spectrum')\n",
    "        axs[0].legend()\n",
    "\n",
    "        # 绘制重建光谱图\n",
    "        axs[1].plot(self.wavelengths, r, label='Reconstructed Spectrum')\n",
    "        axs[1].set_xlabel('Wavelength (nm)')\n",
    "        axs[1].set_ylabel('Intensity')\n",
    "        axs[1].legend()\n",
    "\n",
    "        # 绘制重建光谱和真实光谱叠加的图\n",
    "        axs[2].plot(self.wavelengths, s, label='True Spectrum')\n",
    "        axs[2].plot(self.wavelengths, r, label='Reconstructed Spectrum')\n",
    "        axs[2].set_xlabel('Wavelength (nm)')\n",
    "        axs[2].set_ylabel('Intensity')\n",
    "        axs[2].legend()\n",
    "\n",
    "        plt.tight_layout()\n",
    "        plt.show()\n",
    "\n",
    "    def Evaluate(self, light):\n",
    "        s = self.data[:, light]\n",
    "        s_re = self.reconstructed_spectrum[:,light]\n",
    "        MAE = np.mean(np.absolute(s - s_re))\n",
    "        RMSE = np.sqrt(np.mean(np.square(s- s_re)))\n",
    "        RRMSE = RMSE / np.mean(s_re)\n",
    "\n",
    "        #GFC\n",
    "        num = abs(np.sum(s * s_re))\n",
    "        denom_s = np.sqrt(np.sum(s ** 2) + 1e-9)\n",
    "        denom_s_re = np.sqrt(np.sum(s_re ** 2) + 1e-9)\n",
    "        GFC =num / (denom_s * denom_s_re)\n",
    "\n",
    "        print(\"MAE: \", MAE)\n",
    "        print(\"RMSE: \", RMSE)\n",
    "        print(\"RRMES: \", RRMSE)\n",
    "        print(\"GFC: \", GFC)\n"
   ]
  },
  {
   "cell_type": "code",
   "execution_count": 53,
   "metadata": {},
   "outputs": [
    {
     "name": "stderr",
     "output_type": "stream",
     "text": [
      "/opt/anaconda3/envs/ForEXE/lib/python3.10/site-packages/sklearn/cluster/_kmeans.py:870: FutureWarning: The default value of `n_init` will change from 10 to 'auto' in 1.4. Set the value of `n_init` explicitly to suppress the warning\n",
      "  warnings.warn(\n"
     ]
    },
    {
     "ename": "ValueError",
     "evalue": "shapes (8,471) and (8,904) not aligned: 471 (dim 1) != 8 (dim 0)",
     "output_type": "error",
     "traceback": [
      "\u001b[0;31m---------------------------------------------------------------------------\u001b[0m",
      "\u001b[0;31mValueError\u001b[0m                                Traceback (most recent call last)",
      "Cell \u001b[0;32mIn[53], line 2\u001b[0m\n\u001b[1;32m      1\u001b[0m test \u001b[39m=\u001b[39m SPDReClusterPCA(spd, \u001b[39m8\u001b[39m, \u001b[39m2\u001b[39m)\n\u001b[0;32m----> 2\u001b[0m test\u001b[39m.\u001b[39;49mReconstructed_spectrum()\n",
      "Cell \u001b[0;32mIn[52], line 22\u001b[0m, in \u001b[0;36mSPDReClusterPCA.Reconstructed_spectrum\u001b[0;34m(self)\u001b[0m\n\u001b[1;32m     20\u001b[0m \u001b[39mfor\u001b[39;00m j \u001b[39min\u001b[39;00m \u001b[39mrange\u001b[39m(\u001b[39m8\u001b[39m):\n\u001b[1;32m     21\u001b[0m     filters[j] \u001b[39m=\u001b[39m np\u001b[39m.\u001b[39mexp(\u001b[39m-\u001b[39m\u001b[39m0.5\u001b[39m \u001b[39m*\u001b[39m ((\u001b[39mself\u001b[39m\u001b[39m.\u001b[39mwavelengths \u001b[39m-\u001b[39m \u001b[39mself\u001b[39m\u001b[39m.\u001b[39mmu[j]) \u001b[39m/\u001b[39m \u001b[39mself\u001b[39m\u001b[39m.\u001b[39msigma[j])\u001b[39m*\u001b[39m\u001b[39m*\u001b[39m\u001b[39m2\u001b[39m)\n\u001b[0;32m---> 22\u001b[0m M \u001b[39m=\u001b[39m np\u001b[39m.\u001b[39;49mdot(filters, scores\u001b[39m.\u001b[39;49mT)\n\u001b[1;32m     23\u001b[0m response_matrix \u001b[39m=\u001b[39m np\u001b[39m.\u001b[39mdot(filters, cluster)\n\u001b[1;32m     24\u001b[0m mean_response \u001b[39m=\u001b[39m np\u001b[39m.\u001b[39mmean(response_matrix, axis\u001b[39m=\u001b[39m\u001b[39m1\u001b[39m)\n",
      "File \u001b[0;32m<__array_function__ internals>:180\u001b[0m, in \u001b[0;36mdot\u001b[0;34m(*args, **kwargs)\u001b[0m\n",
      "\u001b[0;31mValueError\u001b[0m: shapes (8,471) and (8,904) not aligned: 471 (dim 1) != 8 (dim 0)"
     ]
    }
   ],
   "source": [
    "test = SPDReClusterPCA(spd, 8, 2)\n",
    "test.Reconstructed_spectrum()"
   ]
  }
 ],
 "metadata": {
  "kernelspec": {
   "display_name": "Python 3",
   "language": "python",
   "name": "python3"
  },
  "language_info": {
   "codemirror_mode": {
    "name": "ipython",
    "version": 3
   },
   "file_extension": ".py",
   "mimetype": "text/x-python",
   "name": "python",
   "nbconvert_exporter": "python",
   "pygments_lexer": "ipython3",
   "version": "3.10.9"
  },
  "orig_nbformat": 4
 },
 "nbformat": 4,
 "nbformat_minor": 2
}
