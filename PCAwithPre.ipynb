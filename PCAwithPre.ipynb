{
 "cells": [
  {
   "cell_type": "code",
   "execution_count": null,
   "metadata": {},
   "outputs": [],
   "source": [
    "import numpy as np\n",
    "import pandas as pd\n",
    "from sklearn.decomposition import PCA\n",
    "import matplotlib.pyplot as plt"
   ]
  },
  {
   "cell_type": "code",
   "execution_count": null,
   "metadata": {},
   "outputs": [],
   "source": [
    "data = np.load(\"cleandata.npy\", allow_pickle=True)\n",
    "\n",
    "#center\n",
    "data.mean()\n",
    "center_function = lambda x: x - x.mean()\n",
    "data_centered = center_function(data)\n",
    "\n",
    "# PCA\n",
    "pca = PCA(n_components=8,whiten=False)\n",
    "pca.fit(data_centered)\n",
    "data_mean = pca.mean_\n",
    "data_withmax = pca.components_\n",
    "data_PCA = pca.transform(data_centered)\n"
   ]
  },
  {
   "cell_type": "code",
   "execution_count": null,
   "metadata": {},
   "outputs": [],
   "source": [
    "#The parameters For Gausssian\n",
    "simga = np.array([11.0403,12.7388, 15.2866, 16.5605, 16.5605, 16.9851, 21.2314, 22.0807 ])\n",
    "mu = np.array([415, 445, 480, 515, 555, 590, 630, 680])"
   ]
  },
  {
   "cell_type": "code",
   "execution_count": null,
   "metadata": {},
   "outputs": [],
   "source": [
    "def Gaussianfunctions(x,sigma, mu):\n",
    "    return np.exp((-((x - mu)**2)) / (2 * sigma**2)) / (np.sqrt(2 * np.pi * sigma**2))"
   ]
  },
  {
   "cell_type": "code",
   "execution_count": null,
   "metadata": {},
   "outputs": [],
   "source": [
    "plt.plot(data_PCA[:,0], label='F1', color= \"purple\" )\n",
    "plt.plot(data_PCA[:,1], label='F2', color= \"darkslateblue\")\n",
    "plt.plot(data_PCA[:,2], label='F3', color= \"blue\")\n",
    "plt.plot(data_PCA[:,3], label='F4', color= \"lightseagreen\")\n",
    "plt.plot(data_PCA[:,4], label='F5', color= \"green\")\n",
    "plt.plot(data_PCA[:,5], label='F6', color= \"yellow\")\n",
    "plt.plot(data_PCA[:,6], label='F7', color= \"gold\")\n",
    "plt.plot(data_PCA[:,7], label='F8', color= \"red\")\n",
    "\n",
    "plt.legend()\n",
    "plt.show()\n"
   ]
  }
 ],
 "metadata": {
  "kernelspec": {
   "display_name": "ForEXE",
   "language": "python",
   "name": "python3"
  },
  "language_info": {
   "codemirror_mode": {
    "name": "ipython",
    "version": 3
   },
   "file_extension": ".py",
   "mimetype": "text/x-python",
   "name": "python",
   "nbconvert_exporter": "python",
   "pygments_lexer": "ipython3",
   "version": "3.10.9"
  },
  "orig_nbformat": 4
 },
 "nbformat": 4,
 "nbformat_minor": 2
}
