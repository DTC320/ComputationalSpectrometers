{
 "cells": [
  {
   "cell_type": "code",
   "execution_count": 7,
   "metadata": {
    "collapsed": true
   },
   "outputs": [],
   "source": [
    "import numpy as np\n",
    "import pandas as pd\n",
    "from sklearn.decomposition import PCA"
   ]
  },
  {
   "cell_type": "code",
   "execution_count": 16,
   "outputs": [],
   "source": [
    "data01=pd.read_excel(\"EMPIR_PhotoLED_SPECTRAL_DATABASE_version_2.xlsx\",sheet_name=\"DATA\")"
   ],
   "metadata": {
    "collapsed": false
   }
  },
  {
   "cell_type": "code",
   "execution_count": 17,
   "outputs": [
    {
     "name": "stdout",
     "output_type": "stream",
     "text": [
      "<class 'pandas.core.frame.DataFrame'>\n",
      "RangeIndex: 478 entries, 0 to 477\n",
      "Columns: 1495 entries, CCT / K (min Duv) to 1329594372375\n",
      "dtypes: object(1495)\n",
      "memory usage: 5.5+ MB\n"
     ]
    }
   ],
   "source": [
    "data01.info()\n"
   ],
   "metadata": {
    "collapsed": false
   }
  },
  {
   "cell_type": "code",
   "execution_count": 18,
   "outputs": [
    {
     "data": {
      "text/plain": "                  CCT / K (min Duv) 1705.35231381655 1713.38753774762  \\\n0    CCT / K (MacCamy, not precise)      1736.929722      1746.038149   \n1                                Rf        52.026891        53.393764   \n2                                Ra        36.854868        58.611153   \n3                                R9      -111.405013       -44.358968   \n4                               Duv         0.003889         0.005259   \n..                              ...              ...              ...   \n473                             826                0                0   \n474                             827                0                0   \n475                             828                0                0   \n476                             829                0                0   \n477                             830                0                0   \n\n    1723.05780276656 1999.70770440996 2000.43594930321 2001.59848388284  \\\n0         1751.22689      1981.136046      1981.914894      1983.029601   \n1          59.853801        84.155885        84.207529        84.198936   \n2          48.940549        79.737989        79.648359        79.812248   \n3         -67.801535        67.036213         66.14593        67.337749   \n4           0.004458         0.000061         0.000092         0.000089   \n..               ...              ...              ...              ...   \n473         0.000428         0.000056         0.000012         0.000038   \n474         0.000404         0.000052         0.000026         0.000046   \n475          0.00043         0.000053         0.000028         0.000044   \n476         0.000398         0.000043         0.000024          0.00004   \n477         0.000383          0.00007        -0.000003         0.000051   \n\n    2016.09058864415 2397.80642092228 2457.84346759319  ... 13670.8092689514  \\\n0        1999.778316      2376.050078      2455.602571  ...     13012.461169   \n1          87.569156        81.712481        66.934518  ...        58.705618   \n2          89.797702        90.730333        61.378274  ...        68.566726   \n3          47.532339        77.231185       -53.655122  ...        33.632819   \n4           0.001192        -0.005547         0.007993  ...        -0.019937   \n..               ...              ...              ...  ...              ...   \n473         0.000332                0                0  ...                0   \n474         0.000336                0                0  ...                0   \n475         0.000332                0                0  ...                0   \n476         0.000314                0                0  ...                0   \n477         0.000306                0                0  ...                0   \n\n    17404.1390419006 20704.7872394323 24579.2350769043 26462.1472358704  \\\n0       15741.675721      17903.54316     19995.199607     20786.818858   \n1          61.719455        69.460104        64.792171                0   \n2          69.854846        74.343482        77.757632                0   \n3          39.730473        49.190597         75.67656                0   \n4           -0.01776        -0.024162        -0.024556        -0.022279   \n..               ...              ...              ...              ...   \n473                0                0                0                0   \n474                0                0                0                0   \n475                0                0                0                0   \n476                0                0                0                0   \n477                0                0                0                0   \n\n    95088.9239162207 49870.399476029 124156.799213961 796918788804.688  \\\n0       26596.409443    28058.356625     31681.715633     37217.402786   \n1                  0               0                0                0   \n2                  0               0                0                0   \n3                  0               0                0                0   \n4           0.050989       -0.027326        -0.008958         0.063669   \n..               ...             ...              ...              ...   \n473                0               0                0                0   \n474                0               0                0                0   \n475                0               0                0                0   \n476                0               0                0                0   \n477                0               0                0                0   \n\n    1329594372375  \n0    43715.461775  \n1               0  \n2               0  \n3               0  \n4       -0.008766  \n..            ...  \n473             0  \n474             0  \n475             0  \n476             0  \n477             0  \n\n[478 rows x 1495 columns]",
      "text/html": "<div>\n<style scoped>\n    .dataframe tbody tr th:only-of-type {\n        vertical-align: middle;\n    }\n\n    .dataframe tbody tr th {\n        vertical-align: top;\n    }\n\n    .dataframe thead th {\n        text-align: right;\n    }\n</style>\n<table border=\"1\" class=\"dataframe\">\n  <thead>\n    <tr style=\"text-align: right;\">\n      <th></th>\n      <th>CCT / K (min Duv)</th>\n      <th>1705.35231381655</th>\n      <th>1713.38753774762</th>\n      <th>1723.05780276656</th>\n      <th>1999.70770440996</th>\n      <th>2000.43594930321</th>\n      <th>2001.59848388284</th>\n      <th>2016.09058864415</th>\n      <th>2397.80642092228</th>\n      <th>2457.84346759319</th>\n      <th>...</th>\n      <th>13670.8092689514</th>\n      <th>17404.1390419006</th>\n      <th>20704.7872394323</th>\n      <th>24579.2350769043</th>\n      <th>26462.1472358704</th>\n      <th>95088.9239162207</th>\n      <th>49870.399476029</th>\n      <th>124156.799213961</th>\n      <th>796918788804.688</th>\n      <th>1329594372375</th>\n    </tr>\n  </thead>\n  <tbody>\n    <tr>\n      <th>0</th>\n      <td>CCT / K (MacCamy, not precise)</td>\n      <td>1736.929722</td>\n      <td>1746.038149</td>\n      <td>1751.22689</td>\n      <td>1981.136046</td>\n      <td>1981.914894</td>\n      <td>1983.029601</td>\n      <td>1999.778316</td>\n      <td>2376.050078</td>\n      <td>2455.602571</td>\n      <td>...</td>\n      <td>13012.461169</td>\n      <td>15741.675721</td>\n      <td>17903.54316</td>\n      <td>19995.199607</td>\n      <td>20786.818858</td>\n      <td>26596.409443</td>\n      <td>28058.356625</td>\n      <td>31681.715633</td>\n      <td>37217.402786</td>\n      <td>43715.461775</td>\n    </tr>\n    <tr>\n      <th>1</th>\n      <td>Rf</td>\n      <td>52.026891</td>\n      <td>53.393764</td>\n      <td>59.853801</td>\n      <td>84.155885</td>\n      <td>84.207529</td>\n      <td>84.198936</td>\n      <td>87.569156</td>\n      <td>81.712481</td>\n      <td>66.934518</td>\n      <td>...</td>\n      <td>58.705618</td>\n      <td>61.719455</td>\n      <td>69.460104</td>\n      <td>64.792171</td>\n      <td>0</td>\n      <td>0</td>\n      <td>0</td>\n      <td>0</td>\n      <td>0</td>\n      <td>0</td>\n    </tr>\n    <tr>\n      <th>2</th>\n      <td>Ra</td>\n      <td>36.854868</td>\n      <td>58.611153</td>\n      <td>48.940549</td>\n      <td>79.737989</td>\n      <td>79.648359</td>\n      <td>79.812248</td>\n      <td>89.797702</td>\n      <td>90.730333</td>\n      <td>61.378274</td>\n      <td>...</td>\n      <td>68.566726</td>\n      <td>69.854846</td>\n      <td>74.343482</td>\n      <td>77.757632</td>\n      <td>0</td>\n      <td>0</td>\n      <td>0</td>\n      <td>0</td>\n      <td>0</td>\n      <td>0</td>\n    </tr>\n    <tr>\n      <th>3</th>\n      <td>R9</td>\n      <td>-111.405013</td>\n      <td>-44.358968</td>\n      <td>-67.801535</td>\n      <td>67.036213</td>\n      <td>66.14593</td>\n      <td>67.337749</td>\n      <td>47.532339</td>\n      <td>77.231185</td>\n      <td>-53.655122</td>\n      <td>...</td>\n      <td>33.632819</td>\n      <td>39.730473</td>\n      <td>49.190597</td>\n      <td>75.67656</td>\n      <td>0</td>\n      <td>0</td>\n      <td>0</td>\n      <td>0</td>\n      <td>0</td>\n      <td>0</td>\n    </tr>\n    <tr>\n      <th>4</th>\n      <td>Duv</td>\n      <td>0.003889</td>\n      <td>0.005259</td>\n      <td>0.004458</td>\n      <td>0.000061</td>\n      <td>0.000092</td>\n      <td>0.000089</td>\n      <td>0.001192</td>\n      <td>-0.005547</td>\n      <td>0.007993</td>\n      <td>...</td>\n      <td>-0.019937</td>\n      <td>-0.01776</td>\n      <td>-0.024162</td>\n      <td>-0.024556</td>\n      <td>-0.022279</td>\n      <td>0.050989</td>\n      <td>-0.027326</td>\n      <td>-0.008958</td>\n      <td>0.063669</td>\n      <td>-0.008766</td>\n    </tr>\n    <tr>\n      <th>...</th>\n      <td>...</td>\n      <td>...</td>\n      <td>...</td>\n      <td>...</td>\n      <td>...</td>\n      <td>...</td>\n      <td>...</td>\n      <td>...</td>\n      <td>...</td>\n      <td>...</td>\n      <td>...</td>\n      <td>...</td>\n      <td>...</td>\n      <td>...</td>\n      <td>...</td>\n      <td>...</td>\n      <td>...</td>\n      <td>...</td>\n      <td>...</td>\n      <td>...</td>\n      <td>...</td>\n    </tr>\n    <tr>\n      <th>473</th>\n      <td>826</td>\n      <td>0</td>\n      <td>0</td>\n      <td>0.000428</td>\n      <td>0.000056</td>\n      <td>0.000012</td>\n      <td>0.000038</td>\n      <td>0.000332</td>\n      <td>0</td>\n      <td>0</td>\n      <td>...</td>\n      <td>0</td>\n      <td>0</td>\n      <td>0</td>\n      <td>0</td>\n      <td>0</td>\n      <td>0</td>\n      <td>0</td>\n      <td>0</td>\n      <td>0</td>\n      <td>0</td>\n    </tr>\n    <tr>\n      <th>474</th>\n      <td>827</td>\n      <td>0</td>\n      <td>0</td>\n      <td>0.000404</td>\n      <td>0.000052</td>\n      <td>0.000026</td>\n      <td>0.000046</td>\n      <td>0.000336</td>\n      <td>0</td>\n      <td>0</td>\n      <td>...</td>\n      <td>0</td>\n      <td>0</td>\n      <td>0</td>\n      <td>0</td>\n      <td>0</td>\n      <td>0</td>\n      <td>0</td>\n      <td>0</td>\n      <td>0</td>\n      <td>0</td>\n    </tr>\n    <tr>\n      <th>475</th>\n      <td>828</td>\n      <td>0</td>\n      <td>0</td>\n      <td>0.00043</td>\n      <td>0.000053</td>\n      <td>0.000028</td>\n      <td>0.000044</td>\n      <td>0.000332</td>\n      <td>0</td>\n      <td>0</td>\n      <td>...</td>\n      <td>0</td>\n      <td>0</td>\n      <td>0</td>\n      <td>0</td>\n      <td>0</td>\n      <td>0</td>\n      <td>0</td>\n      <td>0</td>\n      <td>0</td>\n      <td>0</td>\n    </tr>\n    <tr>\n      <th>476</th>\n      <td>829</td>\n      <td>0</td>\n      <td>0</td>\n      <td>0.000398</td>\n      <td>0.000043</td>\n      <td>0.000024</td>\n      <td>0.00004</td>\n      <td>0.000314</td>\n      <td>0</td>\n      <td>0</td>\n      <td>...</td>\n      <td>0</td>\n      <td>0</td>\n      <td>0</td>\n      <td>0</td>\n      <td>0</td>\n      <td>0</td>\n      <td>0</td>\n      <td>0</td>\n      <td>0</td>\n      <td>0</td>\n    </tr>\n    <tr>\n      <th>477</th>\n      <td>830</td>\n      <td>0</td>\n      <td>0</td>\n      <td>0.000383</td>\n      <td>0.00007</td>\n      <td>-0.000003</td>\n      <td>0.000051</td>\n      <td>0.000306</td>\n      <td>0</td>\n      <td>0</td>\n      <td>...</td>\n      <td>0</td>\n      <td>0</td>\n      <td>0</td>\n      <td>0</td>\n      <td>0</td>\n      <td>0</td>\n      <td>0</td>\n      <td>0</td>\n      <td>0</td>\n      <td>0</td>\n    </tr>\n  </tbody>\n</table>\n<p>478 rows × 1495 columns</p>\n</div>"
     },
     "execution_count": 18,
     "metadata": {},
     "output_type": "execute_result"
    }
   ],
   "source": [
    "data01\n"
   ],
   "metadata": {
    "collapsed": false
   }
  },
  {
   "cell_type": "code",
   "execution_count": 25,
   "outputs": [
    {
     "data": {
      "text/plain": "    CCT / K (min Duv) 1705.35231381655 1713.38753774762 1723.05780276656  \\\n7                 360         0.000023         0.000034                0   \n8                 361          0.00002         0.000024                0   \n9                 362         0.000024         0.000028                0   \n10                363         0.000015         0.000028                0   \n11                364         0.000027          0.00003                0   \n..                ...              ...              ...              ...   \n473               826                0                0         0.000428   \n474               827                0                0         0.000404   \n475               828                0                0          0.00043   \n476               829                0                0         0.000398   \n477               830                0                0         0.000383   \n\n    1999.70770440996 2000.43594930321 2001.59848388284 2016.09058864415  \\\n7           0.000088         0.000026         0.000054         0.000085   \n8           0.000074         0.000014         0.000067         0.000098   \n9           0.000075         0.000023         0.000041         0.000089   \n10          0.000051         0.000032         0.000038         0.000067   \n11          0.000073         0.000004         0.000051         0.000073   \n..               ...              ...              ...              ...   \n473         0.000056         0.000012         0.000038         0.000332   \n474         0.000052         0.000026         0.000046         0.000336   \n475         0.000053         0.000028         0.000044         0.000332   \n476         0.000043         0.000024          0.00004         0.000314   \n477          0.00007        -0.000003         0.000051         0.000306   \n\n    2397.80642092228 2457.84346759319  ... 13670.8092689514 17404.1390419006  \\\n7                  0                0  ...         0.000138         0.000577   \n8                  0                0  ...         0.000119         0.000556   \n9                  0                0  ...         0.000141         0.000395   \n10                 0                0  ...         0.000165         0.000531   \n11                 0                0  ...         0.000138         0.000462   \n..               ...              ...  ...              ...              ...   \n473                0                0  ...                0                0   \n474                0                0  ...                0                0   \n475                0                0  ...                0                0   \n476                0                0  ...                0                0   \n477                0                0  ...                0                0   \n\n    20704.7872394323 24579.2350769043 26462.1472358704 95088.9239162207  \\\n7           0.000117                0          0.00017         0.000087   \n8           0.000049                0         0.000115         0.000128   \n9           0.000047                0         0.000061         0.000082   \n10          0.000095                0         0.000077         0.000086   \n11          0.000082                0         0.000102         0.000103   \n..               ...              ...              ...              ...   \n473                0                0                0                0   \n474                0                0                0                0   \n475                0                0                0                0   \n476                0                0                0                0   \n477                0                0                0                0   \n\n    49870.399476029 124156.799213961 796918788804.688 1329594372375  \n7                 0                0                0     -0.000001  \n8          0.000621             -0.0                0     -0.000001  \n9          0.000594                0                0     -0.000001  \n10          0.00055             -0.0                0     -0.000001  \n11          0.00056                0                0             0  \n..              ...              ...              ...           ...  \n473               0                0                0             0  \n474               0                0                0             0  \n475               0                0                0             0  \n476               0                0                0             0  \n477               0                0                0             0  \n\n[471 rows x 1495 columns]",
      "text/html": "<div>\n<style scoped>\n    .dataframe tbody tr th:only-of-type {\n        vertical-align: middle;\n    }\n\n    .dataframe tbody tr th {\n        vertical-align: top;\n    }\n\n    .dataframe thead th {\n        text-align: right;\n    }\n</style>\n<table border=\"1\" class=\"dataframe\">\n  <thead>\n    <tr style=\"text-align: right;\">\n      <th></th>\n      <th>CCT / K (min Duv)</th>\n      <th>1705.35231381655</th>\n      <th>1713.38753774762</th>\n      <th>1723.05780276656</th>\n      <th>1999.70770440996</th>\n      <th>2000.43594930321</th>\n      <th>2001.59848388284</th>\n      <th>2016.09058864415</th>\n      <th>2397.80642092228</th>\n      <th>2457.84346759319</th>\n      <th>...</th>\n      <th>13670.8092689514</th>\n      <th>17404.1390419006</th>\n      <th>20704.7872394323</th>\n      <th>24579.2350769043</th>\n      <th>26462.1472358704</th>\n      <th>95088.9239162207</th>\n      <th>49870.399476029</th>\n      <th>124156.799213961</th>\n      <th>796918788804.688</th>\n      <th>1329594372375</th>\n    </tr>\n  </thead>\n  <tbody>\n    <tr>\n      <th>7</th>\n      <td>360</td>\n      <td>0.000023</td>\n      <td>0.000034</td>\n      <td>0</td>\n      <td>0.000088</td>\n      <td>0.000026</td>\n      <td>0.000054</td>\n      <td>0.000085</td>\n      <td>0</td>\n      <td>0</td>\n      <td>...</td>\n      <td>0.000138</td>\n      <td>0.000577</td>\n      <td>0.000117</td>\n      <td>0</td>\n      <td>0.00017</td>\n      <td>0.000087</td>\n      <td>0</td>\n      <td>0</td>\n      <td>0</td>\n      <td>-0.000001</td>\n    </tr>\n    <tr>\n      <th>8</th>\n      <td>361</td>\n      <td>0.00002</td>\n      <td>0.000024</td>\n      <td>0</td>\n      <td>0.000074</td>\n      <td>0.000014</td>\n      <td>0.000067</td>\n      <td>0.000098</td>\n      <td>0</td>\n      <td>0</td>\n      <td>...</td>\n      <td>0.000119</td>\n      <td>0.000556</td>\n      <td>0.000049</td>\n      <td>0</td>\n      <td>0.000115</td>\n      <td>0.000128</td>\n      <td>0.000621</td>\n      <td>-0.0</td>\n      <td>0</td>\n      <td>-0.000001</td>\n    </tr>\n    <tr>\n      <th>9</th>\n      <td>362</td>\n      <td>0.000024</td>\n      <td>0.000028</td>\n      <td>0</td>\n      <td>0.000075</td>\n      <td>0.000023</td>\n      <td>0.000041</td>\n      <td>0.000089</td>\n      <td>0</td>\n      <td>0</td>\n      <td>...</td>\n      <td>0.000141</td>\n      <td>0.000395</td>\n      <td>0.000047</td>\n      <td>0</td>\n      <td>0.000061</td>\n      <td>0.000082</td>\n      <td>0.000594</td>\n      <td>0</td>\n      <td>0</td>\n      <td>-0.000001</td>\n    </tr>\n    <tr>\n      <th>10</th>\n      <td>363</td>\n      <td>0.000015</td>\n      <td>0.000028</td>\n      <td>0</td>\n      <td>0.000051</td>\n      <td>0.000032</td>\n      <td>0.000038</td>\n      <td>0.000067</td>\n      <td>0</td>\n      <td>0</td>\n      <td>...</td>\n      <td>0.000165</td>\n      <td>0.000531</td>\n      <td>0.000095</td>\n      <td>0</td>\n      <td>0.000077</td>\n      <td>0.000086</td>\n      <td>0.00055</td>\n      <td>-0.0</td>\n      <td>0</td>\n      <td>-0.000001</td>\n    </tr>\n    <tr>\n      <th>11</th>\n      <td>364</td>\n      <td>0.000027</td>\n      <td>0.00003</td>\n      <td>0</td>\n      <td>0.000073</td>\n      <td>0.000004</td>\n      <td>0.000051</td>\n      <td>0.000073</td>\n      <td>0</td>\n      <td>0</td>\n      <td>...</td>\n      <td>0.000138</td>\n      <td>0.000462</td>\n      <td>0.000082</td>\n      <td>0</td>\n      <td>0.000102</td>\n      <td>0.000103</td>\n      <td>0.00056</td>\n      <td>0</td>\n      <td>0</td>\n      <td>0</td>\n    </tr>\n    <tr>\n      <th>...</th>\n      <td>...</td>\n      <td>...</td>\n      <td>...</td>\n      <td>...</td>\n      <td>...</td>\n      <td>...</td>\n      <td>...</td>\n      <td>...</td>\n      <td>...</td>\n      <td>...</td>\n      <td>...</td>\n      <td>...</td>\n      <td>...</td>\n      <td>...</td>\n      <td>...</td>\n      <td>...</td>\n      <td>...</td>\n      <td>...</td>\n      <td>...</td>\n      <td>...</td>\n      <td>...</td>\n    </tr>\n    <tr>\n      <th>473</th>\n      <td>826</td>\n      <td>0</td>\n      <td>0</td>\n      <td>0.000428</td>\n      <td>0.000056</td>\n      <td>0.000012</td>\n      <td>0.000038</td>\n      <td>0.000332</td>\n      <td>0</td>\n      <td>0</td>\n      <td>...</td>\n      <td>0</td>\n      <td>0</td>\n      <td>0</td>\n      <td>0</td>\n      <td>0</td>\n      <td>0</td>\n      <td>0</td>\n      <td>0</td>\n      <td>0</td>\n      <td>0</td>\n    </tr>\n    <tr>\n      <th>474</th>\n      <td>827</td>\n      <td>0</td>\n      <td>0</td>\n      <td>0.000404</td>\n      <td>0.000052</td>\n      <td>0.000026</td>\n      <td>0.000046</td>\n      <td>0.000336</td>\n      <td>0</td>\n      <td>0</td>\n      <td>...</td>\n      <td>0</td>\n      <td>0</td>\n      <td>0</td>\n      <td>0</td>\n      <td>0</td>\n      <td>0</td>\n      <td>0</td>\n      <td>0</td>\n      <td>0</td>\n      <td>0</td>\n    </tr>\n    <tr>\n      <th>475</th>\n      <td>828</td>\n      <td>0</td>\n      <td>0</td>\n      <td>0.00043</td>\n      <td>0.000053</td>\n      <td>0.000028</td>\n      <td>0.000044</td>\n      <td>0.000332</td>\n      <td>0</td>\n      <td>0</td>\n      <td>...</td>\n      <td>0</td>\n      <td>0</td>\n      <td>0</td>\n      <td>0</td>\n      <td>0</td>\n      <td>0</td>\n      <td>0</td>\n      <td>0</td>\n      <td>0</td>\n      <td>0</td>\n    </tr>\n    <tr>\n      <th>476</th>\n      <td>829</td>\n      <td>0</td>\n      <td>0</td>\n      <td>0.000398</td>\n      <td>0.000043</td>\n      <td>0.000024</td>\n      <td>0.00004</td>\n      <td>0.000314</td>\n      <td>0</td>\n      <td>0</td>\n      <td>...</td>\n      <td>0</td>\n      <td>0</td>\n      <td>0</td>\n      <td>0</td>\n      <td>0</td>\n      <td>0</td>\n      <td>0</td>\n      <td>0</td>\n      <td>0</td>\n      <td>0</td>\n    </tr>\n    <tr>\n      <th>477</th>\n      <td>830</td>\n      <td>0</td>\n      <td>0</td>\n      <td>0.000383</td>\n      <td>0.00007</td>\n      <td>-0.000003</td>\n      <td>0.000051</td>\n      <td>0.000306</td>\n      <td>0</td>\n      <td>0</td>\n      <td>...</td>\n      <td>0</td>\n      <td>0</td>\n      <td>0</td>\n      <td>0</td>\n      <td>0</td>\n      <td>0</td>\n      <td>0</td>\n      <td>0</td>\n      <td>0</td>\n      <td>0</td>\n    </tr>\n  </tbody>\n</table>\n<p>471 rows × 1495 columns</p>\n</div>"
     },
     "execution_count": 25,
     "metadata": {},
     "output_type": "execute_result"
    }
   ],
   "source": [
    "data02 = data01.drop(labels=None,axis=0, index=[0,1,2,3,4,5,6], columns=None, inplace=False)\n",
    "data02"
   ],
   "metadata": {
    "collapsed": false
   }
  },
  {
   "cell_type": "code",
   "execution_count": 26,
   "outputs": [
    {
     "data": {
      "text/plain": "    1.705352e+03 1.713388e+03 1.723058e+03 1.999708e+03 2.000436e+03  \\\n7       0.000023     0.000034            0     0.000088     0.000026   \n8        0.00002     0.000024            0     0.000074     0.000014   \n9       0.000024     0.000028            0     0.000075     0.000023   \n10      0.000015     0.000028            0     0.000051     0.000032   \n11      0.000027      0.00003            0     0.000073     0.000004   \n..           ...          ...          ...          ...          ...   \n473            0            0     0.000428     0.000056     0.000012   \n474            0            0     0.000404     0.000052     0.000026   \n475            0            0      0.00043     0.000053     0.000028   \n476            0            0     0.000398     0.000043     0.000024   \n477            0            0     0.000383      0.00007    -0.000003   \n\n    2.001598e+03 2.016091e+03 2.397806e+03 2.457843e+03 2.479435e+03  ...  \\\n7       0.000054     0.000085            0            0            0  ...   \n8       0.000067     0.000098            0            0            0  ...   \n9       0.000041     0.000089            0            0            0  ...   \n10      0.000038     0.000067            0            0            0  ...   \n11      0.000051     0.000073            0            0            0  ...   \n..           ...          ...          ...          ...          ...  ...   \n473     0.000038     0.000332            0            0     0.000117  ...   \n474     0.000046     0.000336            0            0     0.000113  ...   \n475     0.000044     0.000332            0            0     0.000108  ...   \n476      0.00004     0.000314            0            0     0.000104  ...   \n477     0.000051     0.000306            0            0     0.000098  ...   \n\n    1.367081e+04 1.740414e+04 2.070479e+04 2.457924e+04 2.646215e+04  \\\n7       0.000138     0.000577     0.000117            0      0.00017   \n8       0.000119     0.000556     0.000049            0     0.000115   \n9       0.000141     0.000395     0.000047            0     0.000061   \n10      0.000165     0.000531     0.000095            0     0.000077   \n11      0.000138     0.000462     0.000082            0     0.000102   \n..           ...          ...          ...          ...          ...   \n473            0            0            0            0            0   \n474            0            0            0            0            0   \n475            0            0            0            0            0   \n476            0            0            0            0            0   \n477            0            0            0            0            0   \n\n    9.508892e+04 4.987040e+04 1.241568e+05 7.969188e+11 1.329594e+12  \n7       0.000087            0            0            0    -0.000001  \n8       0.000128     0.000621         -0.0            0    -0.000001  \n9       0.000082     0.000594            0            0    -0.000001  \n10      0.000086      0.00055         -0.0            0    -0.000001  \n11      0.000103      0.00056            0            0            0  \n..           ...          ...          ...          ...          ...  \n473            0            0            0            0            0  \n474            0            0            0            0            0  \n475            0            0            0            0            0  \n476            0            0            0            0            0  \n477            0            0            0            0            0  \n\n[471 rows x 1494 columns]",
      "text/html": "<div>\n<style scoped>\n    .dataframe tbody tr th:only-of-type {\n        vertical-align: middle;\n    }\n\n    .dataframe tbody tr th {\n        vertical-align: top;\n    }\n\n    .dataframe thead th {\n        text-align: right;\n    }\n</style>\n<table border=\"1\" class=\"dataframe\">\n  <thead>\n    <tr style=\"text-align: right;\">\n      <th></th>\n      <th>1.705352e+03</th>\n      <th>1.713388e+03</th>\n      <th>1.723058e+03</th>\n      <th>1.999708e+03</th>\n      <th>2.000436e+03</th>\n      <th>2.001598e+03</th>\n      <th>2.016091e+03</th>\n      <th>2.397806e+03</th>\n      <th>2.457843e+03</th>\n      <th>2.479435e+03</th>\n      <th>...</th>\n      <th>1.367081e+04</th>\n      <th>1.740414e+04</th>\n      <th>2.070479e+04</th>\n      <th>2.457924e+04</th>\n      <th>2.646215e+04</th>\n      <th>9.508892e+04</th>\n      <th>4.987040e+04</th>\n      <th>1.241568e+05</th>\n      <th>7.969188e+11</th>\n      <th>1.329594e+12</th>\n    </tr>\n  </thead>\n  <tbody>\n    <tr>\n      <th>7</th>\n      <td>0.000023</td>\n      <td>0.000034</td>\n      <td>0</td>\n      <td>0.000088</td>\n      <td>0.000026</td>\n      <td>0.000054</td>\n      <td>0.000085</td>\n      <td>0</td>\n      <td>0</td>\n      <td>0</td>\n      <td>...</td>\n      <td>0.000138</td>\n      <td>0.000577</td>\n      <td>0.000117</td>\n      <td>0</td>\n      <td>0.00017</td>\n      <td>0.000087</td>\n      <td>0</td>\n      <td>0</td>\n      <td>0</td>\n      <td>-0.000001</td>\n    </tr>\n    <tr>\n      <th>8</th>\n      <td>0.00002</td>\n      <td>0.000024</td>\n      <td>0</td>\n      <td>0.000074</td>\n      <td>0.000014</td>\n      <td>0.000067</td>\n      <td>0.000098</td>\n      <td>0</td>\n      <td>0</td>\n      <td>0</td>\n      <td>...</td>\n      <td>0.000119</td>\n      <td>0.000556</td>\n      <td>0.000049</td>\n      <td>0</td>\n      <td>0.000115</td>\n      <td>0.000128</td>\n      <td>0.000621</td>\n      <td>-0.0</td>\n      <td>0</td>\n      <td>-0.000001</td>\n    </tr>\n    <tr>\n      <th>9</th>\n      <td>0.000024</td>\n      <td>0.000028</td>\n      <td>0</td>\n      <td>0.000075</td>\n      <td>0.000023</td>\n      <td>0.000041</td>\n      <td>0.000089</td>\n      <td>0</td>\n      <td>0</td>\n      <td>0</td>\n      <td>...</td>\n      <td>0.000141</td>\n      <td>0.000395</td>\n      <td>0.000047</td>\n      <td>0</td>\n      <td>0.000061</td>\n      <td>0.000082</td>\n      <td>0.000594</td>\n      <td>0</td>\n      <td>0</td>\n      <td>-0.000001</td>\n    </tr>\n    <tr>\n      <th>10</th>\n      <td>0.000015</td>\n      <td>0.000028</td>\n      <td>0</td>\n      <td>0.000051</td>\n      <td>0.000032</td>\n      <td>0.000038</td>\n      <td>0.000067</td>\n      <td>0</td>\n      <td>0</td>\n      <td>0</td>\n      <td>...</td>\n      <td>0.000165</td>\n      <td>0.000531</td>\n      <td>0.000095</td>\n      <td>0</td>\n      <td>0.000077</td>\n      <td>0.000086</td>\n      <td>0.00055</td>\n      <td>-0.0</td>\n      <td>0</td>\n      <td>-0.000001</td>\n    </tr>\n    <tr>\n      <th>11</th>\n      <td>0.000027</td>\n      <td>0.00003</td>\n      <td>0</td>\n      <td>0.000073</td>\n      <td>0.000004</td>\n      <td>0.000051</td>\n      <td>0.000073</td>\n      <td>0</td>\n      <td>0</td>\n      <td>0</td>\n      <td>...</td>\n      <td>0.000138</td>\n      <td>0.000462</td>\n      <td>0.000082</td>\n      <td>0</td>\n      <td>0.000102</td>\n      <td>0.000103</td>\n      <td>0.00056</td>\n      <td>0</td>\n      <td>0</td>\n      <td>0</td>\n    </tr>\n    <tr>\n      <th>...</th>\n      <td>...</td>\n      <td>...</td>\n      <td>...</td>\n      <td>...</td>\n      <td>...</td>\n      <td>...</td>\n      <td>...</td>\n      <td>...</td>\n      <td>...</td>\n      <td>...</td>\n      <td>...</td>\n      <td>...</td>\n      <td>...</td>\n      <td>...</td>\n      <td>...</td>\n      <td>...</td>\n      <td>...</td>\n      <td>...</td>\n      <td>...</td>\n      <td>...</td>\n      <td>...</td>\n    </tr>\n    <tr>\n      <th>473</th>\n      <td>0</td>\n      <td>0</td>\n      <td>0.000428</td>\n      <td>0.000056</td>\n      <td>0.000012</td>\n      <td>0.000038</td>\n      <td>0.000332</td>\n      <td>0</td>\n      <td>0</td>\n      <td>0.000117</td>\n      <td>...</td>\n      <td>0</td>\n      <td>0</td>\n      <td>0</td>\n      <td>0</td>\n      <td>0</td>\n      <td>0</td>\n      <td>0</td>\n      <td>0</td>\n      <td>0</td>\n      <td>0</td>\n    </tr>\n    <tr>\n      <th>474</th>\n      <td>0</td>\n      <td>0</td>\n      <td>0.000404</td>\n      <td>0.000052</td>\n      <td>0.000026</td>\n      <td>0.000046</td>\n      <td>0.000336</td>\n      <td>0</td>\n      <td>0</td>\n      <td>0.000113</td>\n      <td>...</td>\n      <td>0</td>\n      <td>0</td>\n      <td>0</td>\n      <td>0</td>\n      <td>0</td>\n      <td>0</td>\n      <td>0</td>\n      <td>0</td>\n      <td>0</td>\n      <td>0</td>\n    </tr>\n    <tr>\n      <th>475</th>\n      <td>0</td>\n      <td>0</td>\n      <td>0.00043</td>\n      <td>0.000053</td>\n      <td>0.000028</td>\n      <td>0.000044</td>\n      <td>0.000332</td>\n      <td>0</td>\n      <td>0</td>\n      <td>0.000108</td>\n      <td>...</td>\n      <td>0</td>\n      <td>0</td>\n      <td>0</td>\n      <td>0</td>\n      <td>0</td>\n      <td>0</td>\n      <td>0</td>\n      <td>0</td>\n      <td>0</td>\n      <td>0</td>\n    </tr>\n    <tr>\n      <th>476</th>\n      <td>0</td>\n      <td>0</td>\n      <td>0.000398</td>\n      <td>0.000043</td>\n      <td>0.000024</td>\n      <td>0.00004</td>\n      <td>0.000314</td>\n      <td>0</td>\n      <td>0</td>\n      <td>0.000104</td>\n      <td>...</td>\n      <td>0</td>\n      <td>0</td>\n      <td>0</td>\n      <td>0</td>\n      <td>0</td>\n      <td>0</td>\n      <td>0</td>\n      <td>0</td>\n      <td>0</td>\n      <td>0</td>\n    </tr>\n    <tr>\n      <th>477</th>\n      <td>0</td>\n      <td>0</td>\n      <td>0.000383</td>\n      <td>0.00007</td>\n      <td>-0.000003</td>\n      <td>0.000051</td>\n      <td>0.000306</td>\n      <td>0</td>\n      <td>0</td>\n      <td>0.000098</td>\n      <td>...</td>\n      <td>0</td>\n      <td>0</td>\n      <td>0</td>\n      <td>0</td>\n      <td>0</td>\n      <td>0</td>\n      <td>0</td>\n      <td>0</td>\n      <td>0</td>\n      <td>0</td>\n    </tr>\n  </tbody>\n</table>\n<p>471 rows × 1494 columns</p>\n</div>"
     },
     "execution_count": 26,
     "metadata": {},
     "output_type": "execute_result"
    }
   ],
   "source": [
    "data02.drop(['CCT / K (min Duv)'],axis=1)\n"
   ],
   "metadata": {
    "collapsed": false
   }
  },
  {
   "cell_type": "code",
   "execution_count": 29,
   "outputs": [
    {
     "name": "stdout",
     "output_type": "stream",
     "text": [
      "[[360 2.2757918125842892e-05 3.399140921248083e-05 ... 0 0\n",
      "  -1.4641251332350348e-06]\n",
      " [361 1.9919133402337825e-05 2.3700268496282506e-05 ...\n",
      "  -2.3619574765657763e-07 0 -7.864368065780602e-07]\n",
      " [362 2.426599233262612e-05 2.7677856950898395e-05 ... 0 0\n",
      "  -1.4641251332350348e-06]\n",
      " ...\n",
      " [828 0 0 ... 0 0 0]\n",
      " [829 0 0 ... 0 0 0]\n",
      " [830 0 0 ... 0 0 0]]\n"
     ]
    }
   ],
   "source": [
    "data = data02.values\n",
    "print(data)"
   ],
   "metadata": {
    "collapsed": false
   }
  },
  {
   "cell_type": "code",
   "execution_count": 31,
   "outputs": [
    {
     "data": {
      "text/plain": "(471, 1495)"
     },
     "execution_count": 31,
     "metadata": {},
     "output_type": "execute_result"
    }
   ],
   "source": [
    "data.shape"
   ],
   "metadata": {
    "collapsed": false
   }
  },
  {
   "cell_type": "code",
   "execution_count": 32,
   "outputs": [],
   "source": [
    "data02.to_csv(\"data\")"
   ],
   "metadata": {
    "collapsed": false
   }
  },
  {
   "cell_type": "code",
   "execution_count": 34,
   "outputs": [
    {
     "ename": "ValueError",
     "evalue": "No engine for filetype: ''",
     "output_type": "error",
     "traceback": [
      "\u001B[0;31m---------------------------------------------------------------------------\u001B[0m",
      "\u001B[0;31mOptionError\u001B[0m                               Traceback (most recent call last)",
      "File \u001B[0;32m/opt/anaconda3/envs/SR/lib/python3.10/site-packages/pandas/io/excel/_base.py:1144\u001B[0m, in \u001B[0;36mExcelWriter.__new__\u001B[0;34m(cls, path, engine, date_format, datetime_format, mode, storage_options, if_sheet_exists, engine_kwargs, **kwargs)\u001B[0m\n\u001B[1;32m   1143\u001B[0m \u001B[38;5;28;01mtry\u001B[39;00m:\n\u001B[0;32m-> 1144\u001B[0m     engine \u001B[38;5;241m=\u001B[39m \u001B[43mconfig\u001B[49m\u001B[38;5;241;43m.\u001B[39;49m\u001B[43mget_option\u001B[49m\u001B[43m(\u001B[49m\u001B[38;5;124;43mf\u001B[39;49m\u001B[38;5;124;43m\"\u001B[39;49m\u001B[38;5;124;43mio.excel.\u001B[39;49m\u001B[38;5;132;43;01m{\u001B[39;49;00m\u001B[43mext\u001B[49m\u001B[38;5;132;43;01m}\u001B[39;49;00m\u001B[38;5;124;43m.writer\u001B[39;49m\u001B[38;5;124;43m\"\u001B[39;49m\u001B[43m,\u001B[49m\u001B[43m \u001B[49m\u001B[43msilent\u001B[49m\u001B[38;5;241;43m=\u001B[39;49m\u001B[38;5;28;43;01mTrue\u001B[39;49;00m\u001B[43m)\u001B[49m\n\u001B[1;32m   1145\u001B[0m     \u001B[38;5;28;01mif\u001B[39;00m engine \u001B[38;5;241m==\u001B[39m \u001B[38;5;124m\"\u001B[39m\u001B[38;5;124mauto\u001B[39m\u001B[38;5;124m\"\u001B[39m:\n",
      "File \u001B[0;32m/opt/anaconda3/envs/SR/lib/python3.10/site-packages/pandas/_config/config.py:263\u001B[0m, in \u001B[0;36mCallableDynamicDoc.__call__\u001B[0;34m(self, *args, **kwds)\u001B[0m\n\u001B[1;32m    262\u001B[0m \u001B[38;5;28;01mdef\u001B[39;00m \u001B[38;5;21m__call__\u001B[39m(\u001B[38;5;28mself\u001B[39m, \u001B[38;5;241m*\u001B[39margs, \u001B[38;5;241m*\u001B[39m\u001B[38;5;241m*\u001B[39mkwds) \u001B[38;5;241m-\u001B[39m\u001B[38;5;241m>\u001B[39m T:\n\u001B[0;32m--> 263\u001B[0m     \u001B[38;5;28;01mreturn\u001B[39;00m \u001B[38;5;28;43mself\u001B[39;49m\u001B[38;5;241;43m.\u001B[39;49m\u001B[38;5;18;43m__func__\u001B[39;49m\u001B[43m(\u001B[49m\u001B[38;5;241;43m*\u001B[39;49m\u001B[43margs\u001B[49m\u001B[43m,\u001B[49m\u001B[43m \u001B[49m\u001B[38;5;241;43m*\u001B[39;49m\u001B[38;5;241;43m*\u001B[39;49m\u001B[43mkwds\u001B[49m\u001B[43m)\u001B[49m\n",
      "File \u001B[0;32m/opt/anaconda3/envs/SR/lib/python3.10/site-packages/pandas/_config/config.py:135\u001B[0m, in \u001B[0;36m_get_option\u001B[0;34m(pat, silent)\u001B[0m\n\u001B[1;32m    134\u001B[0m \u001B[38;5;28;01mdef\u001B[39;00m \u001B[38;5;21m_get_option\u001B[39m(pat: \u001B[38;5;28mstr\u001B[39m, silent: \u001B[38;5;28mbool\u001B[39m \u001B[38;5;241m=\u001B[39m \u001B[38;5;28;01mFalse\u001B[39;00m) \u001B[38;5;241m-\u001B[39m\u001B[38;5;241m>\u001B[39m Any:\n\u001B[0;32m--> 135\u001B[0m     key \u001B[38;5;241m=\u001B[39m \u001B[43m_get_single_key\u001B[49m\u001B[43m(\u001B[49m\u001B[43mpat\u001B[49m\u001B[43m,\u001B[49m\u001B[43m \u001B[49m\u001B[43msilent\u001B[49m\u001B[43m)\u001B[49m\n\u001B[1;32m    137\u001B[0m     \u001B[38;5;66;03m# walk the nested dict\u001B[39;00m\n",
      "File \u001B[0;32m/opt/anaconda3/envs/SR/lib/python3.10/site-packages/pandas/_config/config.py:121\u001B[0m, in \u001B[0;36m_get_single_key\u001B[0;34m(pat, silent)\u001B[0m\n\u001B[1;32m    120\u001B[0m         _warn_if_deprecated(pat)\n\u001B[0;32m--> 121\u001B[0m     \u001B[38;5;28;01mraise\u001B[39;00m OptionError(\u001B[38;5;124mf\u001B[39m\u001B[38;5;124m\"\u001B[39m\u001B[38;5;124mNo such keys(s): \u001B[39m\u001B[38;5;132;01m{\u001B[39;00m\u001B[38;5;28mrepr\u001B[39m(pat)\u001B[38;5;132;01m}\u001B[39;00m\u001B[38;5;124m\"\u001B[39m)\n\u001B[1;32m    122\u001B[0m \u001B[38;5;28;01mif\u001B[39;00m \u001B[38;5;28mlen\u001B[39m(keys) \u001B[38;5;241m>\u001B[39m \u001B[38;5;241m1\u001B[39m:\n",
      "\u001B[0;31mOptionError\u001B[0m: No such keys(s): 'io.excel..writer'",
      "\nThe above exception was the direct cause of the following exception:\n",
      "\u001B[0;31mValueError\u001B[0m                                Traceback (most recent call last)",
      "Cell \u001B[0;32mIn[34], line 1\u001B[0m\n\u001B[0;32m----> 1\u001B[0m \u001B[43mdata02\u001B[49m\u001B[38;5;241;43m.\u001B[39;49m\u001B[43mto_excel\u001B[49m\u001B[43m(\u001B[49m\u001B[38;5;124;43m'\u001B[39;49m\u001B[38;5;124;43mdata\u001B[39;49m\u001B[38;5;124;43m'\u001B[39;49m\u001B[43m)\u001B[49m\n",
      "File \u001B[0;32m/opt/anaconda3/envs/SR/lib/python3.10/site-packages/pandas/util/_decorators.py:211\u001B[0m, in \u001B[0;36mdeprecate_kwarg.<locals>._deprecate_kwarg.<locals>.wrapper\u001B[0;34m(*args, **kwargs)\u001B[0m\n\u001B[1;32m    209\u001B[0m     \u001B[38;5;28;01melse\u001B[39;00m:\n\u001B[1;32m    210\u001B[0m         kwargs[new_arg_name] \u001B[38;5;241m=\u001B[39m new_arg_value\n\u001B[0;32m--> 211\u001B[0m \u001B[38;5;28;01mreturn\u001B[39;00m \u001B[43mfunc\u001B[49m\u001B[43m(\u001B[49m\u001B[38;5;241;43m*\u001B[39;49m\u001B[43margs\u001B[49m\u001B[43m,\u001B[49m\u001B[43m \u001B[49m\u001B[38;5;241;43m*\u001B[39;49m\u001B[38;5;241;43m*\u001B[39;49m\u001B[43mkwargs\u001B[49m\u001B[43m)\u001B[49m\n",
      "File \u001B[0;32m/opt/anaconda3/envs/SR/lib/python3.10/site-packages/pandas/util/_decorators.py:211\u001B[0m, in \u001B[0;36mdeprecate_kwarg.<locals>._deprecate_kwarg.<locals>.wrapper\u001B[0;34m(*args, **kwargs)\u001B[0m\n\u001B[1;32m    209\u001B[0m     \u001B[38;5;28;01melse\u001B[39;00m:\n\u001B[1;32m    210\u001B[0m         kwargs[new_arg_name] \u001B[38;5;241m=\u001B[39m new_arg_value\n\u001B[0;32m--> 211\u001B[0m \u001B[38;5;28;01mreturn\u001B[39;00m \u001B[43mfunc\u001B[49m\u001B[43m(\u001B[49m\u001B[38;5;241;43m*\u001B[39;49m\u001B[43margs\u001B[49m\u001B[43m,\u001B[49m\u001B[43m \u001B[49m\u001B[38;5;241;43m*\u001B[39;49m\u001B[38;5;241;43m*\u001B[39;49m\u001B[43mkwargs\u001B[49m\u001B[43m)\u001B[49m\n",
      "File \u001B[0;32m/opt/anaconda3/envs/SR/lib/python3.10/site-packages/pandas/core/generic.py:2374\u001B[0m, in \u001B[0;36mNDFrame.to_excel\u001B[0;34m(self, excel_writer, sheet_name, na_rep, float_format, columns, header, index, index_label, startrow, startcol, engine, merge_cells, encoding, inf_rep, verbose, freeze_panes, storage_options)\u001B[0m\n\u001B[1;32m   2361\u001B[0m \u001B[38;5;28;01mfrom\u001B[39;00m \u001B[38;5;21;01mpandas\u001B[39;00m\u001B[38;5;21;01m.\u001B[39;00m\u001B[38;5;21;01mio\u001B[39;00m\u001B[38;5;21;01m.\u001B[39;00m\u001B[38;5;21;01mformats\u001B[39;00m\u001B[38;5;21;01m.\u001B[39;00m\u001B[38;5;21;01mexcel\u001B[39;00m \u001B[38;5;28;01mimport\u001B[39;00m ExcelFormatter\n\u001B[1;32m   2363\u001B[0m formatter \u001B[38;5;241m=\u001B[39m ExcelFormatter(\n\u001B[1;32m   2364\u001B[0m     df,\n\u001B[1;32m   2365\u001B[0m     na_rep\u001B[38;5;241m=\u001B[39mna_rep,\n\u001B[0;32m   (...)\u001B[0m\n\u001B[1;32m   2372\u001B[0m     inf_rep\u001B[38;5;241m=\u001B[39minf_rep,\n\u001B[1;32m   2373\u001B[0m )\n\u001B[0;32m-> 2374\u001B[0m \u001B[43mformatter\u001B[49m\u001B[38;5;241;43m.\u001B[39;49m\u001B[43mwrite\u001B[49m\u001B[43m(\u001B[49m\n\u001B[1;32m   2375\u001B[0m \u001B[43m    \u001B[49m\u001B[43mexcel_writer\u001B[49m\u001B[43m,\u001B[49m\n\u001B[1;32m   2376\u001B[0m \u001B[43m    \u001B[49m\u001B[43msheet_name\u001B[49m\u001B[38;5;241;43m=\u001B[39;49m\u001B[43msheet_name\u001B[49m\u001B[43m,\u001B[49m\n\u001B[1;32m   2377\u001B[0m \u001B[43m    \u001B[49m\u001B[43mstartrow\u001B[49m\u001B[38;5;241;43m=\u001B[39;49m\u001B[43mstartrow\u001B[49m\u001B[43m,\u001B[49m\n\u001B[1;32m   2378\u001B[0m \u001B[43m    \u001B[49m\u001B[43mstartcol\u001B[49m\u001B[38;5;241;43m=\u001B[39;49m\u001B[43mstartcol\u001B[49m\u001B[43m,\u001B[49m\n\u001B[1;32m   2379\u001B[0m \u001B[43m    \u001B[49m\u001B[43mfreeze_panes\u001B[49m\u001B[38;5;241;43m=\u001B[39;49m\u001B[43mfreeze_panes\u001B[49m\u001B[43m,\u001B[49m\n\u001B[1;32m   2380\u001B[0m \u001B[43m    \u001B[49m\u001B[43mengine\u001B[49m\u001B[38;5;241;43m=\u001B[39;49m\u001B[43mengine\u001B[49m\u001B[43m,\u001B[49m\n\u001B[1;32m   2381\u001B[0m \u001B[43m    \u001B[49m\u001B[43mstorage_options\u001B[49m\u001B[38;5;241;43m=\u001B[39;49m\u001B[43mstorage_options\u001B[49m\u001B[43m,\u001B[49m\n\u001B[1;32m   2382\u001B[0m \u001B[43m\u001B[49m\u001B[43m)\u001B[49m\n",
      "File \u001B[0;32m/opt/anaconda3/envs/SR/lib/python3.10/site-packages/pandas/io/formats/excel.py:918\u001B[0m, in \u001B[0;36mExcelFormatter.write\u001B[0;34m(self, writer, sheet_name, startrow, startcol, freeze_panes, engine, storage_options)\u001B[0m\n\u001B[1;32m    914\u001B[0m     need_save \u001B[38;5;241m=\u001B[39m \u001B[38;5;28;01mFalse\u001B[39;00m\n\u001B[1;32m    915\u001B[0m \u001B[38;5;28;01melse\u001B[39;00m:\n\u001B[1;32m    916\u001B[0m     \u001B[38;5;66;03m# error: Cannot instantiate abstract class 'ExcelWriter' with abstract\u001B[39;00m\n\u001B[1;32m    917\u001B[0m     \u001B[38;5;66;03m# attributes 'engine', 'save', 'supported_extensions' and 'write_cells'\u001B[39;00m\n\u001B[0;32m--> 918\u001B[0m     writer \u001B[38;5;241m=\u001B[39m \u001B[43mExcelWriter\u001B[49m\u001B[43m(\u001B[49m\u001B[43m  \u001B[49m\u001B[38;5;66;43;03m# type: ignore[abstract]\u001B[39;49;00m\n\u001B[1;32m    919\u001B[0m \u001B[43m        \u001B[49m\u001B[43mwriter\u001B[49m\u001B[43m,\u001B[49m\u001B[43m \u001B[49m\u001B[43mengine\u001B[49m\u001B[38;5;241;43m=\u001B[39;49m\u001B[43mengine\u001B[49m\u001B[43m,\u001B[49m\u001B[43m \u001B[49m\u001B[43mstorage_options\u001B[49m\u001B[38;5;241;43m=\u001B[39;49m\u001B[43mstorage_options\u001B[49m\n\u001B[1;32m    920\u001B[0m \u001B[43m    \u001B[49m\u001B[43m)\u001B[49m\n\u001B[1;32m    921\u001B[0m     need_save \u001B[38;5;241m=\u001B[39m \u001B[38;5;28;01mTrue\u001B[39;00m\n\u001B[1;32m    923\u001B[0m \u001B[38;5;28;01mtry\u001B[39;00m:\n",
      "File \u001B[0;32m/opt/anaconda3/envs/SR/lib/python3.10/site-packages/pandas/io/excel/_base.py:1148\u001B[0m, in \u001B[0;36mExcelWriter.__new__\u001B[0;34m(cls, path, engine, date_format, datetime_format, mode, storage_options, if_sheet_exists, engine_kwargs, **kwargs)\u001B[0m\n\u001B[1;32m   1146\u001B[0m             engine \u001B[38;5;241m=\u001B[39m get_default_engine(ext, mode\u001B[38;5;241m=\u001B[39m\u001B[38;5;124m\"\u001B[39m\u001B[38;5;124mwriter\u001B[39m\u001B[38;5;124m\"\u001B[39m)\n\u001B[1;32m   1147\u001B[0m     \u001B[38;5;28;01mexcept\u001B[39;00m \u001B[38;5;167;01mKeyError\u001B[39;00m \u001B[38;5;28;01mas\u001B[39;00m err:\n\u001B[0;32m-> 1148\u001B[0m         \u001B[38;5;28;01mraise\u001B[39;00m \u001B[38;5;167;01mValueError\u001B[39;00m(\u001B[38;5;124mf\u001B[39m\u001B[38;5;124m\"\u001B[39m\u001B[38;5;124mNo engine for filetype: \u001B[39m\u001B[38;5;124m'\u001B[39m\u001B[38;5;132;01m{\u001B[39;00mext\u001B[38;5;132;01m}\u001B[39;00m\u001B[38;5;124m'\u001B[39m\u001B[38;5;124m\"\u001B[39m) \u001B[38;5;28;01mfrom\u001B[39;00m \u001B[38;5;21;01merr\u001B[39;00m\n\u001B[1;32m   1150\u001B[0m \u001B[38;5;28;01mif\u001B[39;00m engine \u001B[38;5;241m==\u001B[39m \u001B[38;5;124m\"\u001B[39m\u001B[38;5;124mxlwt\u001B[39m\u001B[38;5;124m\"\u001B[39m:\n\u001B[1;32m   1151\u001B[0m     xls_config_engine \u001B[38;5;241m=\u001B[39m config\u001B[38;5;241m.\u001B[39mget_option(\n\u001B[1;32m   1152\u001B[0m         \u001B[38;5;124m\"\u001B[39m\u001B[38;5;124mio.excel.xls.writer\u001B[39m\u001B[38;5;124m\"\u001B[39m, silent\u001B[38;5;241m=\u001B[39m\u001B[38;5;28;01mTrue\u001B[39;00m\n\u001B[1;32m   1153\u001B[0m     )\n",
      "\u001B[0;31mValueError\u001B[0m: No engine for filetype: ''"
     ]
    }
   ],
   "source": [
    "data02.to_excel('data')"
   ],
   "metadata": {
    "collapsed": false
   }
  },
  {
   "cell_type": "code",
   "execution_count": 38,
   "outputs": [
    {
     "data": {
      "text/plain": "(471, 1495)"
     },
     "execution_count": 38,
     "metadata": {},
     "output_type": "execute_result"
    }
   ],
   "source": [
    "data.shape"
   ],
   "metadata": {
    "collapsed": false
   }
  },
  {
   "cell_type": "code",
   "execution_count": null,
   "outputs": [],
   "source": [],
   "metadata": {
    "collapsed": false
   }
  }
 ],
 "metadata": {
  "kernelspec": {
   "display_name": "Python 3",
   "language": "python",
   "name": "python3"
  },
  "language_info": {
   "codemirror_mode": {
    "name": "ipython",
    "version": 2
   },
   "file_extension": ".py",
   "mimetype": "text/x-python",
   "name": "python",
   "nbconvert_exporter": "python",
   "pygments_lexer": "ipython2",
   "version": "2.7.6"
  }
 },
 "nbformat": 4,
 "nbformat_minor": 0
}
