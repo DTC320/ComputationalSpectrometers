{
 "cells": [
  {
   "cell_type": "code",
   "execution_count": 1,
   "metadata": {},
   "outputs": [],
   "source": [
    "import numpy as np\n",
    "import pandas as pd\n",
    "from sklearn.decomposition import PCA\n",
    "from sklearn.preprocessing import StandardScaler\n",
    "import matplotlib.pyplot as plt"
   ]
  },
  {
   "cell_type": "code",
   "execution_count": 2,
   "metadata": {},
   "outputs": [],
   "source": [
    "data = np.load(\"cleandata.npy\", allow_pickle=True)\n",
    "\n",
    "#centered\n",
    "ss = StandardScaler()\n",
    "data_centered = ss.fit_transform(data)\n",
    "\n",
    "\n",
    "# PCA\n",
    "pca = PCA(n_components=8)\n",
    "pca.fit(data_centered)\n",
    "data_mean = pca.mean_\n",
    "data_withmax = pca.components_\n",
    "data_PCA = pca.transform(data_centered)\n",
    "data_components = pca.components_"
   ]
  },
  {
   "cell_type": "code",
   "execution_count": 4,
   "metadata": {},
   "outputs": [],
   "source": [
    "#The parameters For Gausssian\n",
    "sigma = np.array([11.0403,12.7388, 15.2866, 16.5605, 16.5605, 16.9851, 21.2314, 22.0807])\n",
    "mu = np.array([415, 445, 480, 515, 555, 590, 630, 680])"
   ]
  },
  {
   "cell_type": "code",
   "execution_count": 3,
   "metadata": {},
   "outputs": [],
   "source": [
    "def Gaussianfunctions(x,sigma, mu):\n",
    "    return np.exp((-((x - mu)**2)) / (2 * sigma**2)) / (np.sqrt(2 * np.pi * sigma**2))"
   ]
  },
  {
   "attachments": {},
   "cell_type": "markdown",
   "metadata": {},
   "source": [
    "$M  = FB$"
   ]
  },
  {
   "cell_type": "code",
   "execution_count": 5,
   "metadata": {},
   "outputs": [
    {
     "data": {
      "text/plain": [
       "(471, 8)"
      ]
     },
     "execution_count": 5,
     "metadata": {},
     "output_type": "execute_result"
    }
   ],
   "source": [
    "data_PCA.shape"
   ]
  },
  {
   "cell_type": "code",
   "execution_count": 26,
   "metadata": {},
   "outputs": [],
   "source": [
    "M = Gaussianfunctions(data_PCA, sigma, mu) #(471,8)\n",
    "M_pinv = np.linalg.pinv(M) # (8,471)\n"
   ]
  },
  {
   "attachments": {},
   "cell_type": "markdown",
   "metadata": {},
   "source": [
    "r means that the wavelength is reduced by the Gaussian function"
   ]
  },
  {
   "cell_type": "code",
   "execution_count": 31,
   "metadata": {},
   "outputs": [],
   "source": [
    "s = np.arange(360, 831) #(471,1)\n",
    "r = Gaussianfunctions(s, sigma.reshape(-1,1), mu.reshape(-1,1))#(8,471)\n",
    "r = r.T #(471,8)\n",
    "r_mu = r.mean() #1\n",
    "R = r - r_mu #(471,8)"
   ]
  },
  {
   "cell_type": "code",
   "execution_count": 32,
   "metadata": {},
   "outputs": [
    {
     "ename": "ValueError",
     "evalue": "operands could not be broadcast together with shapes (471,8) (8,471) ",
     "output_type": "error",
     "traceback": [
      "\u001b[0;31m---------------------------------------------------------------------------\u001b[0m",
      "\u001b[0;31mValueError\u001b[0m                                Traceback (most recent call last)",
      "Cell \u001b[0;32mIn[32], line 1\u001b[0m\n\u001b[0;32m----> 1\u001b[0m A \u001b[39m=\u001b[39m M_pinv\u001b[39m.\u001b[39;49mT \u001b[39m*\u001b[39;49m R\u001b[39m.\u001b[39;49mT \u001b[39m#\u001b[39;00m\n\u001b[1;32m      2\u001b[0m A\u001b[39m.\u001b[39mshape\n",
      "\u001b[0;31mValueError\u001b[0m: operands could not be broadcast together with shapes (471,8) (8,471) "
     ]
    }
   ],
   "source": [
    "A = M_pinv.T * R.T #\n",
    "A.shape"
   ]
  }
 ],
 "metadata": {
  "kernelspec": {
   "display_name": "ForEXE",
   "language": "python",
   "name": "python3"
  },
  "language_info": {
   "codemirror_mode": {
    "name": "ipython",
    "version": 3
   },
   "file_extension": ".py",
   "mimetype": "text/x-python",
   "name": "python",
   "nbconvert_exporter": "python",
   "pygments_lexer": "ipython3",
   "version": "3.10.9"
  },
  "orig_nbformat": 4
 },
 "nbformat": 4,
 "nbformat_minor": 2
}
